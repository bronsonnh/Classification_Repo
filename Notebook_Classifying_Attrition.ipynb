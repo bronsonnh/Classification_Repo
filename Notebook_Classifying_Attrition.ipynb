{
 "cells": [
  {
   "cell_type": "markdown",
   "id": "e5a2dc1e",
   "metadata": {},
   "source": [
    "# Classification - HR Dataset Bronson"
   ]
  },
  {
   "cell_type": "code",
   "execution_count": 1,
   "id": "2323143f",
   "metadata": {},
   "outputs": [],
   "source": [
    "## Importing packages \n",
    "\n",
    "import numpy as np\n",
    "import pandas as pd\n",
    "import matplotlib.pyplot as plt\n",
    "import seaborn as sns\n",
    "\n",
    "\n",
    "from sklearn.model_selection import train_test_split\n",
    "from sklearn.neighbors import KNeighborsClassifier\n",
    "from sklearn import metrics\n",
    "from sklearn.model_selection import cross_val_score\n",
    "from sklearn.model_selection import GridSearchCV\n",
    "from sklearn.linear_model import LogisticRegression\n",
    "from sklearn.metrics import precision_score, recall_score, precision_recall_curve,f1_score, fbeta_score, roc_auc_score, roc_curve, accuracy_score \n",
    "from sklearn.metrics import confusion_matrix\n",
    "from sklearn.preprocessing import StandardScaler\n",
    "from sklearn.metrics import log_loss\n",
    "from sklearn.dummy import DummyClassifier\n",
    "\n",
    "from sklearn.tree import DecisionTreeClassifier\n",
    "from sklearn.ensemble import RandomForestClassifier\n",
    "from sklearn.linear_model import LogisticRegression\n",
    "from sklearn.ensemble import RandomForestRegressor\n",
    "\n",
    "\n",
    "\n",
    "        \n",
    "plt.style.use('ggplot')\n",
    "%matplotlib inline\n",
    "np.set_printoptions(suppress=True) # Suppress scientific notation where possible\n"
   ]
  },
  {
   "cell_type": "code",
   "execution_count": 2,
   "id": "cda17579",
   "metadata": {},
   "outputs": [],
   "source": [
    "df = pd.read_csv(\"HR_comma_sep.csv\")"
   ]
  },
  {
   "cell_type": "markdown",
   "id": "6fc5630d",
   "metadata": {},
   "source": [
    "## Exploratory Analysis, Cleaning Dataset "
   ]
  },
  {
   "cell_type": "code",
   "execution_count": 3,
   "id": "8c0ff9cc",
   "metadata": {
    "scrolled": true
   },
   "outputs": [
    {
     "name": "stdout",
     "output_type": "stream",
     "text": [
      "<class 'pandas.core.frame.DataFrame'>\n",
      "RangeIndex: 14999 entries, 0 to 14998\n",
      "Data columns (total 10 columns):\n",
      " #   Column                 Non-Null Count  Dtype  \n",
      "---  ------                 --------------  -----  \n",
      " 0   satisfaction_level     14999 non-null  float64\n",
      " 1   last_evaluation        14999 non-null  float64\n",
      " 2   number_project         14999 non-null  int64  \n",
      " 3   average_montly_hours   14999 non-null  int64  \n",
      " 4   time_spend_company     14999 non-null  int64  \n",
      " 5   Work_accident          14999 non-null  int64  \n",
      " 6   left                   14999 non-null  int64  \n",
      " 7   promotion_last_5years  14999 non-null  int64  \n",
      " 8   sales                  14999 non-null  object \n",
      " 9   salary                 14999 non-null  object \n",
      "dtypes: float64(2), int64(6), object(2)\n",
      "memory usage: 1.1+ MB\n"
     ]
    }
   ],
   "source": [
    "df.info()"
   ]
  },
  {
   "cell_type": "code",
   "execution_count": 4,
   "id": "2deffa6c",
   "metadata": {},
   "outputs": [
    {
     "data": {
      "text/plain": [
       "['salary']"
      ]
     },
     "execution_count": 4,
     "metadata": {},
     "output_type": "execute_result"
    }
   ],
   "source": [
    "cols = df.columns.tolist()\n",
    "cols\n",
    "cols[-1:]"
   ]
  },
  {
   "cell_type": "code",
   "execution_count": 5,
   "id": "523bb3de",
   "metadata": {},
   "outputs": [],
   "source": [
    "# Rearrange Columns to have target, \"left\", appear as first column\n",
    "cols = cols[-4:] + cols[:-4]\n",
    "df = df[cols]"
   ]
  },
  {
   "cell_type": "code",
   "execution_count": 6,
   "id": "c5964bc6",
   "metadata": {},
   "outputs": [],
   "source": [
    "# Clean and rename columns \n",
    "\n",
    "df.rename(columns = {\"promotion_last_5years\" : \"promotion_last_5_years\", \"sales\" : \"division\", \n",
    "                     \"number_project\" : \"number_of_projects\", \"average_montly_hours\" : \"average_monthly_hours\", \n",
    "                     \"time_spend_company\" : \"time_spent_with_the_company\", \n",
    "                     \"Work_accident\" : \"work_accidents\"}, inplace=True)\n"
   ]
  },
  {
   "cell_type": "markdown",
   "id": "c0692bb9",
   "metadata": {},
   "source": [
    "# Exploring Data Distribution"
   ]
  },
  {
   "cell_type": "code",
   "execution_count": 7,
   "id": "36110741",
   "metadata": {},
   "outputs": [
    {
     "data": {
      "text/plain": [
       "0    11428\n",
       "1     3571\n",
       "Name: left, dtype: int64"
      ]
     },
     "execution_count": 7,
     "metadata": {},
     "output_type": "execute_result"
    }
   ],
   "source": [
    "df.left.value_counts()\n"
   ]
  },
  {
   "cell_type": "code",
   "execution_count": 8,
   "id": "939d0374",
   "metadata": {},
   "outputs": [
    {
     "name": "stdout",
     "output_type": "stream",
     "text": [
      "The percentage of employees who have stayed at the company is 76.19 %\n",
      "The percentage of employees who have left the company is 23.81 %\n"
     ]
    }
   ],
   "source": [
    "print(\"The percentage of employees who have stayed at the company is\", round((11428/df.shape[0]) * 100.0, 2),\"%\")\n",
    "print(\"The percentage of employees who have left the company is\", round((3571/df.shape[0]) * 100.0, 2),\"%\")"
   ]
  },
  {
   "cell_type": "code",
   "execution_count": 9,
   "id": "764b001c",
   "metadata": {
    "scrolled": false
   },
   "outputs": [
    {
     "data": {
      "text/plain": [
       "0.6128335222348166"
      ]
     },
     "execution_count": 9,
     "metadata": {},
     "output_type": "execute_result"
    }
   ],
   "source": [
    "df.satisfaction_level.mean()\n"
   ]
  },
  {
   "cell_type": "code",
   "execution_count": 10,
   "id": "5bda6898",
   "metadata": {},
   "outputs": [
    {
     "data": {
      "text/plain": [
       "count    14999.000000\n",
       "mean         0.612834\n",
       "std          0.248631\n",
       "min          0.090000\n",
       "25%          0.440000\n",
       "50%          0.640000\n",
       "75%          0.820000\n",
       "max          1.000000\n",
       "Name: satisfaction_level, dtype: float64"
      ]
     },
     "execution_count": 10,
     "metadata": {},
     "output_type": "execute_result"
    }
   ],
   "source": [
    "df.satisfaction_level.describe()\n"
   ]
  },
  {
   "cell_type": "code",
   "execution_count": 11,
   "id": "6ca82fa3",
   "metadata": {},
   "outputs": [
    {
     "data": {
      "text/plain": [
       "3.80305353690246"
      ]
     },
     "execution_count": 11,
     "metadata": {},
     "output_type": "execute_result"
    }
   ],
   "source": [
    "df.number_of_projects.mean()"
   ]
  },
  {
   "cell_type": "code",
   "execution_count": 12,
   "id": "3573e7cd",
   "metadata": {},
   "outputs": [
    {
     "data": {
      "text/plain": [
       "0.1446096406427095"
      ]
     },
     "execution_count": 12,
     "metadata": {},
     "output_type": "execute_result"
    }
   ],
   "source": [
    "df.work_accidents.mean()"
   ]
  },
  {
   "cell_type": "code",
   "execution_count": 13,
   "id": "367f94e8",
   "metadata": {},
   "outputs": [
    {
     "data": {
      "text/plain": [
       "0.7161017401159978"
      ]
     },
     "execution_count": 13,
     "metadata": {},
     "output_type": "execute_result"
    }
   ],
   "source": [
    "df.last_evaluation.mean()"
   ]
  },
  {
   "cell_type": "code",
   "execution_count": 14,
   "id": "63e302c9",
   "metadata": {},
   "outputs": [
    {
     "data": {
      "text/plain": [
       "count    14999.000000\n",
       "mean         0.716102\n",
       "std          0.171169\n",
       "min          0.360000\n",
       "25%          0.560000\n",
       "50%          0.720000\n",
       "75%          0.870000\n",
       "max          1.000000\n",
       "Name: last_evaluation, dtype: float64"
      ]
     },
     "execution_count": 14,
     "metadata": {},
     "output_type": "execute_result"
    }
   ],
   "source": [
    "df.last_evaluation.describe()"
   ]
  },
  {
   "cell_type": "code",
   "execution_count": 15,
   "id": "2b889766",
   "metadata": {},
   "outputs": [
    {
     "data": {
      "text/plain": [
       "(array([ 351.,  885., 2371., 1590., 1372., 1518., 1423., 1970., 1669.,\n",
       "        1850.]),\n",
       " array([0.36 , 0.424, 0.488, 0.552, 0.616, 0.68 , 0.744, 0.808, 0.872,\n",
       "        0.936, 1.   ]),\n",
       " <BarContainer object of 10 artists>)"
      ]
     },
     "execution_count": 15,
     "metadata": {},
     "output_type": "execute_result"
    },
    {
     "data": {
      "image/png": "[encoded data removed]",
      "text/plain": [
       "<Figure size 432x288 with 1 Axes>"
      ]
     },
     "metadata": {
      "needs_background": "light"
     },
     "output_type": "display_data"
    }
   ],
   "source": [
    "plt.hist(df[\"last_evaluation\"])"
   ]
  },
  {
   "cell_type": "code",
   "execution_count": 16,
   "id": "532b4df9",
   "metadata": {},
   "outputs": [
    {
     "data": {
      "text/plain": [
       "Text(0.5, 1.0, 'Salary by Pay Bracket')"
      ]
     },
     "execution_count": 16,
     "metadata": {},
     "output_type": "execute_result"
    },
    {
     "data": {
      "image/png": "[encoded data removed]",
      "text/plain": [
       "<Figure size 432x288 with 1 Axes>"
      ]
     },
     "metadata": {
      "needs_background": "light"
     },
     "output_type": "display_data"
    }
   ],
   "source": [
    "plt.hist(df[\"salary\"])\n",
    "plt.title(\"Salary by Pay Bracket\")"
   ]
  },
  {
   "cell_type": "code",
   "execution_count": 17,
   "id": "fc909dfb",
   "metadata": {},
   "outputs": [
    {
     "data": {
      "text/plain": [
       "(array([12830.,     0.,     0.,     0.,     0.,     0.,     0.,     0.,\n",
       "            0.,  2169.]),\n",
       " array([0. , 0.1, 0.2, 0.3, 0.4, 0.5, 0.6, 0.7, 0.8, 0.9, 1. ]),\n",
       " <BarContainer object of 10 artists>)"
      ]
     },
     "execution_count": 17,
     "metadata": {},
     "output_type": "execute_result"
    },
    {
     "data": {
      "image/png": "[encoded data removed]",
      "text/plain": [
       "<Figure size 432x288 with 1 Axes>"
      ]
     },
     "metadata": {
      "needs_background": "light"
     },
     "output_type": "display_data"
    }
   ],
   "source": [
    "plt.hist(df[\"work_accidents\"])"
   ]
  },
  {
   "cell_type": "code",
   "execution_count": 18,
   "id": "05fd2214",
   "metadata": {},
   "outputs": [],
   "source": [
    "## Employees who have left \n",
    "mask1 = df[\"left\"] == 1"
   ]
  },
  {
   "cell_type": "code",
   "execution_count": 19,
   "id": "381533c2",
   "metadata": {},
   "outputs": [],
   "source": [
    "## Employees who are still with the company \n",
    "mask2 = df[\"left\"] == 0"
   ]
  },
  {
   "cell_type": "code",
   "execution_count": 20,
   "id": "535e9490",
   "metadata": {},
   "outputs": [],
   "source": [
    "## Dataframes for each of the above masks \n",
    "df_left = df[mask1]\n",
    "df_stayed = df[mask2]"
   ]
  },
  {
   "cell_type": "code",
   "execution_count": 21,
   "id": "c7084a27",
   "metadata": {
    "scrolled": true
   },
   "outputs": [
    {
     "data": {
      "text/plain": [
       "0.44009801176140917"
      ]
     },
     "execution_count": 21,
     "metadata": {},
     "output_type": "execute_result"
    }
   ],
   "source": [
    "df_left.satisfaction_level.mean()"
   ]
  },
  {
   "cell_type": "code",
   "execution_count": 22,
   "id": "7449395e",
   "metadata": {},
   "outputs": [
    {
     "data": {
      "text/plain": [
       "0.666809590479516"
      ]
     },
     "execution_count": 22,
     "metadata": {},
     "output_type": "execute_result"
    }
   ],
   "source": [
    "# The average satisfaction for employees who stayed is significantly higher \n",
    "df_stayed.satisfaction_level.mean()"
   ]
  },
  {
   "cell_type": "code",
   "execution_count": 23,
   "id": "1a7d36d5",
   "metadata": {},
   "outputs": [
    {
     "data": {
      "text/plain": [
       "3571"
      ]
     },
     "execution_count": 23,
     "metadata": {},
     "output_type": "execute_result"
    }
   ],
   "source": [
    "len(df_left)"
   ]
  },
  {
   "cell_type": "code",
   "execution_count": 24,
   "id": "2e81bc3e",
   "metadata": {},
   "outputs": [
    {
     "data": {
      "text/plain": [
       "11428"
      ]
     },
     "execution_count": 24,
     "metadata": {},
     "output_type": "execute_result"
    }
   ],
   "source": [
    "len(df_stayed)"
   ]
  },
  {
   "cell_type": "code",
   "execution_count": 25,
   "id": "dade2cec",
   "metadata": {},
   "outputs": [
    {
     "data": {
      "text/plain": [
       "0    3402\n",
       "1     169\n",
       "Name: work_accidents, dtype: int64"
      ]
     },
     "execution_count": 25,
     "metadata": {},
     "output_type": "execute_result"
    }
   ],
   "source": [
    "df_left.work_accidents.value_counts()"
   ]
  },
  {
   "cell_type": "code",
   "execution_count": 26,
   "id": "dae5ad0b",
   "metadata": {},
   "outputs": [
    {
     "data": {
      "text/plain": [
       "0    9428\n",
       "1    2000\n",
       "Name: work_accidents, dtype: int64"
      ]
     },
     "execution_count": 26,
     "metadata": {},
     "output_type": "execute_result"
    }
   ],
   "source": [
    "## Work accidents are higher among employees who have stayed. Perhaps the company deals well with post-accident situations\n",
    "\n",
    "\n",
    "df_stayed.work_accidents.value_counts()"
   ]
  },
  {
   "cell_type": "code",
   "execution_count": 27,
   "id": "804adcd9",
   "metadata": {},
   "outputs": [
    {
     "name": "stdout",
     "output_type": "stream",
     "text": [
      "The average satisfaction level for employees who stayed is:  0.6668\n",
      "The average satisfaction level for employees who left is:  0.4401\n"
     ]
    }
   ],
   "source": [
    "print(\"The average satisfaction level for employees who stayed is: \", round(df_stayed.satisfaction_level.mean(), 4))\n",
    "print(\"The average satisfaction level for employees who left is: \", round(df_left.satisfaction_level.mean(),4))"
   ]
  },
  {
   "cell_type": "markdown",
   "id": "69b3103d",
   "metadata": {},
   "source": [
    "# Exploring different salary bracket s"
   ]
  },
  {
   "cell_type": "code",
   "execution_count": 28,
   "id": "7a435ecc",
   "metadata": {},
   "outputs": [],
   "source": [
    "# Creating different dataframes for low, medium, and high salary brackets  \n",
    "mask3 = df[\"salary\"] == 'low'\n",
    "mask5 = df[\"salary\"] == 'medium'\n",
    "mask4 = df[\"salary\"] == 'high'\n",
    "\n",
    "df_low = df[mask3]\n",
    "df_medium = df[mask5]\n",
    "df_high = df[mask4]"
   ]
  },
  {
   "cell_type": "code",
   "execution_count": 29,
   "id": "9ba13a16",
   "metadata": {},
   "outputs": [
    {
     "data": {
      "text/plain": [
       "0    5144\n",
       "1    2172\n",
       "Name: left, dtype: int64"
      ]
     },
     "execution_count": 29,
     "metadata": {},
     "output_type": "execute_result"
    }
   ],
   "source": [
    "df_low.left.value_counts()"
   ]
  },
  {
   "cell_type": "code",
   "execution_count": 30,
   "id": "e22ea961",
   "metadata": {},
   "outputs": [
    {
     "name": "stdout",
     "output_type": "stream",
     "text": [
      "29.6884 % of employees with low salary have left the company\n"
     ]
    }
   ],
   "source": [
    "print(round(2172/(5144 + 2172) * 100.0, 4), \"% of employees with low salary have left the company\")"
   ]
  },
  {
   "cell_type": "code",
   "execution_count": 31,
   "id": "1e31846a",
   "metadata": {},
   "outputs": [
    {
     "data": {
      "text/plain": [
       "0    1155\n",
       "1      82\n",
       "Name: left, dtype: int64"
      ]
     },
     "execution_count": 31,
     "metadata": {},
     "output_type": "execute_result"
    }
   ],
   "source": [
    "df_high.left.value_counts()"
   ]
  },
  {
   "cell_type": "code",
   "execution_count": 32,
   "id": "50cc2a36",
   "metadata": {},
   "outputs": [
    {
     "name": "stdout",
     "output_type": "stream",
     "text": [
      "6.6289 % of employees with high salary have left the company\n"
     ]
    }
   ],
   "source": [
    "print(round(82/(1155 + 82) * 100.0, 4), \"% of employees with high salary have left the company\")"
   ]
  },
  {
   "cell_type": "code",
   "execution_count": 33,
   "id": "da80d06d",
   "metadata": {},
   "outputs": [
    {
     "data": {
      "text/plain": [
       "0    5129\n",
       "1    1317\n",
       "Name: left, dtype: int64"
      ]
     },
     "execution_count": 33,
     "metadata": {},
     "output_type": "execute_result"
    }
   ],
   "source": [
    "df_medium.left.value_counts()"
   ]
  },
  {
   "cell_type": "code",
   "execution_count": 34,
   "id": "f3a49b84",
   "metadata": {},
   "outputs": [
    {
     "name": "stdout",
     "output_type": "stream",
     "text": [
      "20.4313 % of employees with medium salary have left the company\n"
     ]
    }
   ],
   "source": [
    "print(round(1317/(5129 + 1317) * 100.0, 4), \"% of employees with medium salary have left the company\")"
   ]
  },
  {
   "cell_type": "code",
   "execution_count": 35,
   "id": "9cdcafdc",
   "metadata": {},
   "outputs": [
    {
     "data": {
      "image/png": "[encoded data removed]",
      "text/plain": [
       "<Figure size 1080x1080 with 1 Axes>"
      ]
     },
     "metadata": {
      "needs_background": "light"
     },
     "output_type": "display_data"
    }
   ],
   "source": [
    "# Plotting satisfaction level by number of monthly hours worked\n",
    "plt.rc('xtick', labelsize = 10)\n",
    "plt.rc('ytick', labelsize = 15)\n",
    "\n",
    "plt.figure(figsize=(15,15))\n",
    "\n",
    "plt.scatter(df[\"satisfaction_level\"],df[\"average_monthly_hours\"], alpha = .3, marker=\"x\" )\n",
    "\n",
    "plt.title(\"Satisfaction Level by Monthly Hours\")\n",
    "plt.xlabel(\"Satisfaction Rating\")\n",
    "plt.ylabel(\"Average Working Hours per Month\")\n",
    "plt.show()\n"
   ]
  },
  {
   "cell_type": "code",
   "execution_count": 36,
   "id": "e0e44f2c",
   "metadata": {},
   "outputs": [
    {
     "data": {
      "text/plain": [
       "0.2380825388359224"
      ]
     },
     "execution_count": 36,
     "metadata": {},
     "output_type": "execute_result"
    }
   ],
   "source": [
    "df.left.mean()"
   ]
  },
  {
   "cell_type": "code",
   "execution_count": 155,
   "id": "1da6c5fc",
   "metadata": {},
   "outputs": [
    {
     "data": {
      "image/png": "[encoded data removed]",
      "text/plain": [
       "<Figure size 432x360 with 1 Axes>"
      ]
     },
     "metadata": {},
     "output_type": "display_data"
    }
   ],
   "source": [
    "p = sns.boxplot(x='left', y='satisfaction_level', data=df)\n",
    "\n",
    "p.set(xlabel = \"Stayed (0) or Left (1)\", ylabel =\"Satisfaction Score\", title=\"Satisfaction Level for Employee Groups\");\n",
    "sns.set(rc={'figure.figsize':(6,5)})\n"
   ]
  },
  {
   "cell_type": "markdown",
   "id": "4d6099ad",
   "metadata": {},
   "source": [
    "## Feature Engineering: Dummy Variable and Shifting of Categorical Variables"
   ]
  },
  {
   "cell_type": "code",
   "execution_count": 38,
   "id": "12fd2e1c",
   "metadata": {},
   "outputs": [
    {
     "data": {
      "text/plain": [
       "sales          4140\n",
       "technical      2720\n",
       "support        2229\n",
       "IT             1227\n",
       "product_mng     902\n",
       "marketing       858\n",
       "RandD           787\n",
       "accounting      767\n",
       "hr              739\n",
       "management      630\n",
       "Name: division, dtype: int64"
      ]
     },
     "execution_count": 38,
     "metadata": {},
     "output_type": "execute_result"
    }
   ],
   "source": [
    "df.division.value_counts()"
   ]
  },
  {
   "cell_type": "code",
   "execution_count": 39,
   "id": "35619290",
   "metadata": {},
   "outputs": [],
   "source": [
    "## Dummy Variables created for division \n",
    "\n",
    "df = pd.get_dummies(df, columns=['division'], drop_first=False)"
   ]
  },
  {
   "cell_type": "code",
   "execution_count": 41,
   "id": "7077f574",
   "metadata": {},
   "outputs": [
    {
     "data": {
      "text/html": [
       "<div>\n",
       "<style scoped>\n",
       "    .dataframe tbody tr th:only-of-type {\n",
       "        vertical-align: middle;\n",
       "    }\n",
       "\n",
       "    .dataframe tbody tr th {\n",
       "        vertical-align: top;\n",
       "    }\n",
       "\n",
       "    .dataframe thead th {\n",
       "        text-align: right;\n",
       "    }\n",
       "</style>\n",
       "<table border=\"1\" class=\"dataframe\">\n",
       "  <thead>\n",
       "    <tr style=\"text-align: right;\">\n",
       "      <th></th>\n",
       "      <th>left</th>\n",
       "      <th>promotion_last_5_years</th>\n",
       "      <th>salary</th>\n",
       "      <th>satisfaction_level</th>\n",
       "      <th>last_evaluation</th>\n",
       "      <th>number_of_projects</th>\n",
       "      <th>average_monthly_hours</th>\n",
       "      <th>time_spent_with_the_company</th>\n",
       "      <th>work_accidents</th>\n",
       "      <th>division_IT</th>\n",
       "      <th>division_RandD</th>\n",
       "      <th>division_hr</th>\n",
       "      <th>division_management</th>\n",
       "      <th>division_marketing</th>\n",
       "      <th>division_product_mng</th>\n",
       "      <th>division_sales</th>\n",
       "      <th>division_support</th>\n",
       "      <th>division_technical</th>\n",
       "    </tr>\n",
       "  </thead>\n",
       "  <tbody>\n",
       "    <tr>\n",
       "      <th>0</th>\n",
       "      <td>1</td>\n",
       "      <td>0</td>\n",
       "      <td>low</td>\n",
       "      <td>0.38</td>\n",
       "      <td>0.53</td>\n",
       "      <td>2</td>\n",
       "      <td>157</td>\n",
       "      <td>3</td>\n",
       "      <td>0</td>\n",
       "      <td>0</td>\n",
       "      <td>0</td>\n",
       "      <td>0</td>\n",
       "      <td>0</td>\n",
       "      <td>0</td>\n",
       "      <td>0</td>\n",
       "      <td>1</td>\n",
       "      <td>0</td>\n",
       "      <td>0</td>\n",
       "    </tr>\n",
       "    <tr>\n",
       "      <th>1</th>\n",
       "      <td>1</td>\n",
       "      <td>0</td>\n",
       "      <td>medium</td>\n",
       "      <td>0.80</td>\n",
       "      <td>0.86</td>\n",
       "      <td>5</td>\n",
       "      <td>262</td>\n",
       "      <td>6</td>\n",
       "      <td>0</td>\n",
       "      <td>0</td>\n",
       "      <td>0</td>\n",
       "      <td>0</td>\n",
       "      <td>0</td>\n",
       "      <td>0</td>\n",
       "      <td>0</td>\n",
       "      <td>1</td>\n",
       "      <td>0</td>\n",
       "      <td>0</td>\n",
       "    </tr>\n",
       "    <tr>\n",
       "      <th>2</th>\n",
       "      <td>1</td>\n",
       "      <td>0</td>\n",
       "      <td>medium</td>\n",
       "      <td>0.11</td>\n",
       "      <td>0.88</td>\n",
       "      <td>7</td>\n",
       "      <td>272</td>\n",
       "      <td>4</td>\n",
       "      <td>0</td>\n",
       "      <td>0</td>\n",
       "      <td>0</td>\n",
       "      <td>0</td>\n",
       "      <td>0</td>\n",
       "      <td>0</td>\n",
       "      <td>0</td>\n",
       "      <td>1</td>\n",
       "      <td>0</td>\n",
       "      <td>0</td>\n",
       "    </tr>\n",
       "    <tr>\n",
       "      <th>3</th>\n",
       "      <td>1</td>\n",
       "      <td>0</td>\n",
       "      <td>low</td>\n",
       "      <td>0.72</td>\n",
       "      <td>0.87</td>\n",
       "      <td>5</td>\n",
       "      <td>223</td>\n",
       "      <td>5</td>\n",
       "      <td>0</td>\n",
       "      <td>0</td>\n",
       "      <td>0</td>\n",
       "      <td>0</td>\n",
       "      <td>0</td>\n",
       "      <td>0</td>\n",
       "      <td>0</td>\n",
       "      <td>1</td>\n",
       "      <td>0</td>\n",
       "      <td>0</td>\n",
       "    </tr>\n",
       "    <tr>\n",
       "      <th>4</th>\n",
       "      <td>1</td>\n",
       "      <td>0</td>\n",
       "      <td>low</td>\n",
       "      <td>0.37</td>\n",
       "      <td>0.52</td>\n",
       "      <td>2</td>\n",
       "      <td>159</td>\n",
       "      <td>3</td>\n",
       "      <td>0</td>\n",
       "      <td>0</td>\n",
       "      <td>0</td>\n",
       "      <td>0</td>\n",
       "      <td>0</td>\n",
       "      <td>0</td>\n",
       "      <td>0</td>\n",
       "      <td>1</td>\n",
       "      <td>0</td>\n",
       "      <td>0</td>\n",
       "    </tr>\n",
       "    <tr>\n",
       "      <th>...</th>\n",
       "      <td>...</td>\n",
       "      <td>...</td>\n",
       "      <td>...</td>\n",
       "      <td>...</td>\n",
       "      <td>...</td>\n",
       "      <td>...</td>\n",
       "      <td>...</td>\n",
       "      <td>...</td>\n",
       "      <td>...</td>\n",
       "      <td>...</td>\n",
       "      <td>...</td>\n",
       "      <td>...</td>\n",
       "      <td>...</td>\n",
       "      <td>...</td>\n",
       "      <td>...</td>\n",
       "      <td>...</td>\n",
       "      <td>...</td>\n",
       "      <td>...</td>\n",
       "    </tr>\n",
       "    <tr>\n",
       "      <th>14994</th>\n",
       "      <td>1</td>\n",
       "      <td>0</td>\n",
       "      <td>low</td>\n",
       "      <td>0.40</td>\n",
       "      <td>0.57</td>\n",
       "      <td>2</td>\n",
       "      <td>151</td>\n",
       "      <td>3</td>\n",
       "      <td>0</td>\n",
       "      <td>0</td>\n",
       "      <td>0</td>\n",
       "      <td>0</td>\n",
       "      <td>0</td>\n",
       "      <td>0</td>\n",
       "      <td>0</td>\n",
       "      <td>0</td>\n",
       "      <td>1</td>\n",
       "      <td>0</td>\n",
       "    </tr>\n",
       "    <tr>\n",
       "      <th>14995</th>\n",
       "      <td>1</td>\n",
       "      <td>0</td>\n",
       "      <td>low</td>\n",
       "      <td>0.37</td>\n",
       "      <td>0.48</td>\n",
       "      <td>2</td>\n",
       "      <td>160</td>\n",
       "      <td>3</td>\n",
       "      <td>0</td>\n",
       "      <td>0</td>\n",
       "      <td>0</td>\n",
       "      <td>0</td>\n",
       "      <td>0</td>\n",
       "      <td>0</td>\n",
       "      <td>0</td>\n",
       "      <td>0</td>\n",
       "      <td>1</td>\n",
       "      <td>0</td>\n",
       "    </tr>\n",
       "    <tr>\n",
       "      <th>14996</th>\n",
       "      <td>1</td>\n",
       "      <td>0</td>\n",
       "      <td>low</td>\n",
       "      <td>0.37</td>\n",
       "      <td>0.53</td>\n",
       "      <td>2</td>\n",
       "      <td>143</td>\n",
       "      <td>3</td>\n",
       "      <td>0</td>\n",
       "      <td>0</td>\n",
       "      <td>0</td>\n",
       "      <td>0</td>\n",
       "      <td>0</td>\n",
       "      <td>0</td>\n",
       "      <td>0</td>\n",
       "      <td>0</td>\n",
       "      <td>1</td>\n",
       "      <td>0</td>\n",
       "    </tr>\n",
       "    <tr>\n",
       "      <th>14997</th>\n",
       "      <td>1</td>\n",
       "      <td>0</td>\n",
       "      <td>low</td>\n",
       "      <td>0.11</td>\n",
       "      <td>0.96</td>\n",
       "      <td>6</td>\n",
       "      <td>280</td>\n",
       "      <td>4</td>\n",
       "      <td>0</td>\n",
       "      <td>0</td>\n",
       "      <td>0</td>\n",
       "      <td>0</td>\n",
       "      <td>0</td>\n",
       "      <td>0</td>\n",
       "      <td>0</td>\n",
       "      <td>0</td>\n",
       "      <td>1</td>\n",
       "      <td>0</td>\n",
       "    </tr>\n",
       "    <tr>\n",
       "      <th>14998</th>\n",
       "      <td>1</td>\n",
       "      <td>0</td>\n",
       "      <td>low</td>\n",
       "      <td>0.37</td>\n",
       "      <td>0.52</td>\n",
       "      <td>2</td>\n",
       "      <td>158</td>\n",
       "      <td>3</td>\n",
       "      <td>0</td>\n",
       "      <td>0</td>\n",
       "      <td>0</td>\n",
       "      <td>0</td>\n",
       "      <td>0</td>\n",
       "      <td>0</td>\n",
       "      <td>0</td>\n",
       "      <td>0</td>\n",
       "      <td>1</td>\n",
       "      <td>0</td>\n",
       "    </tr>\n",
       "  </tbody>\n",
       "</table>\n",
       "<p>14999 rows × 18 columns</p>\n",
       "</div>"
      ],
      "text/plain": [
       "       left  promotion_last_5_years  salary  satisfaction_level  \\\n",
       "0         1                       0     low                0.38   \n",
       "1         1                       0  medium                0.80   \n",
       "2         1                       0  medium                0.11   \n",
       "3         1                       0     low                0.72   \n",
       "4         1                       0     low                0.37   \n",
       "...     ...                     ...     ...                 ...   \n",
       "14994     1                       0     low                0.40   \n",
       "14995     1                       0     low                0.37   \n",
       "14996     1                       0     low                0.37   \n",
       "14997     1                       0     low                0.11   \n",
       "14998     1                       0     low                0.37   \n",
       "\n",
       "       last_evaluation  number_of_projects  average_monthly_hours  \\\n",
       "0                 0.53                   2                    157   \n",
       "1                 0.86                   5                    262   \n",
       "2                 0.88                   7                    272   \n",
       "3                 0.87                   5                    223   \n",
       "4                 0.52                   2                    159   \n",
       "...                ...                 ...                    ...   \n",
       "14994             0.57                   2                    151   \n",
       "14995             0.48                   2                    160   \n",
       "14996             0.53                   2                    143   \n",
       "14997             0.96                   6                    280   \n",
       "14998             0.52                   2                    158   \n",
       "\n",
       "       time_spent_with_the_company  work_accidents  division_IT  \\\n",
       "0                                3               0            0   \n",
       "1                                6               0            0   \n",
       "2                                4               0            0   \n",
       "3                                5               0            0   \n",
       "4                                3               0            0   \n",
       "...                            ...             ...          ...   \n",
       "14994                            3               0            0   \n",
       "14995                            3               0            0   \n",
       "14996                            3               0            0   \n",
       "14997                            4               0            0   \n",
       "14998                            3               0            0   \n",
       "\n",
       "       division_RandD  division_hr  division_management  division_marketing  \\\n",
       "0                   0            0                    0                   0   \n",
       "1                   0            0                    0                   0   \n",
       "2                   0            0                    0                   0   \n",
       "3                   0            0                    0                   0   \n",
       "4                   0            0                    0                   0   \n",
       "...               ...          ...                  ...                 ...   \n",
       "14994               0            0                    0                   0   \n",
       "14995               0            0                    0                   0   \n",
       "14996               0            0                    0                   0   \n",
       "14997               0            0                    0                   0   \n",
       "14998               0            0                    0                   0   \n",
       "\n",
       "       division_product_mng  division_sales  division_support  \\\n",
       "0                         0               1                 0   \n",
       "1                         0               1                 0   \n",
       "2                         0               1                 0   \n",
       "3                         0               1                 0   \n",
       "4                         0               1                 0   \n",
       "...                     ...             ...               ...   \n",
       "14994                     0               0                 1   \n",
       "14995                     0               0                 1   \n",
       "14996                     0               0                 1   \n",
       "14997                     0               0                 1   \n",
       "14998                     0               0                 1   \n",
       "\n",
       "       division_technical  \n",
       "0                       0  \n",
       "1                       0  \n",
       "2                       0  \n",
       "3                       0  \n",
       "4                       0  \n",
       "...                   ...  \n",
       "14994                   0  \n",
       "14995                   0  \n",
       "14996                   0  \n",
       "14997                   0  \n",
       "14998                   0  \n",
       "\n",
       "[14999 rows x 18 columns]"
      ]
     },
     "execution_count": 41,
     "metadata": {},
     "output_type": "execute_result"
    }
   ],
   "source": [
    "## Dropped accounting division as it is one of the smaller divisions, in order to prevent multicollinearity \n",
    "\n",
    "df.drop([\"division_accounting\"], axis=1)"
   ]
  },
  {
   "cell_type": "code",
   "execution_count": 42,
   "id": "880e577a",
   "metadata": {},
   "outputs": [
    {
     "data": {
      "text/plain": [
       "low       7316\n",
       "medium    6446\n",
       "high      1237\n",
       "Name: salary, dtype: int64"
      ]
     },
     "execution_count": 42,
     "metadata": {},
     "output_type": "execute_result"
    }
   ],
   "source": [
    "df.salary.value_counts()"
   ]
  },
  {
   "cell_type": "code",
   "execution_count": 43,
   "id": "15ce95b0",
   "metadata": {},
   "outputs": [],
   "source": [
    "## df_all_dummies is a df where we make both salary and division into dummy variables \n",
    "\n",
    "df_all_dummies = pd.get_dummies(df, columns=['salary'], drop_first=False)\n"
   ]
  },
  {
   "cell_type": "code",
   "execution_count": 45,
   "id": "2043c1e5",
   "metadata": {},
   "outputs": [
    {
     "data": {
      "text/html": [
       "<div>\n",
       "<style scoped>\n",
       "    .dataframe tbody tr th:only-of-type {\n",
       "        vertical-align: middle;\n",
       "    }\n",
       "\n",
       "    .dataframe tbody tr th {\n",
       "        vertical-align: top;\n",
       "    }\n",
       "\n",
       "    .dataframe thead th {\n",
       "        text-align: right;\n",
       "    }\n",
       "</style>\n",
       "<table border=\"1\" class=\"dataframe\">\n",
       "  <thead>\n",
       "    <tr style=\"text-align: right;\">\n",
       "      <th></th>\n",
       "      <th>left</th>\n",
       "      <th>promotion_last_5_years</th>\n",
       "      <th>satisfaction_level</th>\n",
       "      <th>last_evaluation</th>\n",
       "      <th>number_of_projects</th>\n",
       "      <th>average_monthly_hours</th>\n",
       "      <th>time_spent_with_the_company</th>\n",
       "      <th>work_accidents</th>\n",
       "      <th>division_IT</th>\n",
       "      <th>division_RandD</th>\n",
       "      <th>division_accounting</th>\n",
       "      <th>division_hr</th>\n",
       "      <th>division_management</th>\n",
       "      <th>division_marketing</th>\n",
       "      <th>division_product_mng</th>\n",
       "      <th>division_sales</th>\n",
       "      <th>division_support</th>\n",
       "      <th>division_technical</th>\n",
       "      <th>salary_high</th>\n",
       "      <th>salary_low</th>\n",
       "    </tr>\n",
       "  </thead>\n",
       "  <tbody>\n",
       "    <tr>\n",
       "      <th>0</th>\n",
       "      <td>1</td>\n",
       "      <td>0</td>\n",
       "      <td>0.38</td>\n",
       "      <td>0.53</td>\n",
       "      <td>2</td>\n",
       "      <td>157</td>\n",
       "      <td>3</td>\n",
       "      <td>0</td>\n",
       "      <td>0</td>\n",
       "      <td>0</td>\n",
       "      <td>0</td>\n",
       "      <td>0</td>\n",
       "      <td>0</td>\n",
       "      <td>0</td>\n",
       "      <td>0</td>\n",
       "      <td>1</td>\n",
       "      <td>0</td>\n",
       "      <td>0</td>\n",
       "      <td>0</td>\n",
       "      <td>1</td>\n",
       "    </tr>\n",
       "    <tr>\n",
       "      <th>1</th>\n",
       "      <td>1</td>\n",
       "      <td>0</td>\n",
       "      <td>0.80</td>\n",
       "      <td>0.86</td>\n",
       "      <td>5</td>\n",
       "      <td>262</td>\n",
       "      <td>6</td>\n",
       "      <td>0</td>\n",
       "      <td>0</td>\n",
       "      <td>0</td>\n",
       "      <td>0</td>\n",
       "      <td>0</td>\n",
       "      <td>0</td>\n",
       "      <td>0</td>\n",
       "      <td>0</td>\n",
       "      <td>1</td>\n",
       "      <td>0</td>\n",
       "      <td>0</td>\n",
       "      <td>0</td>\n",
       "      <td>0</td>\n",
       "    </tr>\n",
       "    <tr>\n",
       "      <th>2</th>\n",
       "      <td>1</td>\n",
       "      <td>0</td>\n",
       "      <td>0.11</td>\n",
       "      <td>0.88</td>\n",
       "      <td>7</td>\n",
       "      <td>272</td>\n",
       "      <td>4</td>\n",
       "      <td>0</td>\n",
       "      <td>0</td>\n",
       "      <td>0</td>\n",
       "      <td>0</td>\n",
       "      <td>0</td>\n",
       "      <td>0</td>\n",
       "      <td>0</td>\n",
       "      <td>0</td>\n",
       "      <td>1</td>\n",
       "      <td>0</td>\n",
       "      <td>0</td>\n",
       "      <td>0</td>\n",
       "      <td>0</td>\n",
       "    </tr>\n",
       "    <tr>\n",
       "      <th>3</th>\n",
       "      <td>1</td>\n",
       "      <td>0</td>\n",
       "      <td>0.72</td>\n",
       "      <td>0.87</td>\n",
       "      <td>5</td>\n",
       "      <td>223</td>\n",
       "      <td>5</td>\n",
       "      <td>0</td>\n",
       "      <td>0</td>\n",
       "      <td>0</td>\n",
       "      <td>0</td>\n",
       "      <td>0</td>\n",
       "      <td>0</td>\n",
       "      <td>0</td>\n",
       "      <td>0</td>\n",
       "      <td>1</td>\n",
       "      <td>0</td>\n",
       "      <td>0</td>\n",
       "      <td>0</td>\n",
       "      <td>1</td>\n",
       "    </tr>\n",
       "    <tr>\n",
       "      <th>4</th>\n",
       "      <td>1</td>\n",
       "      <td>0</td>\n",
       "      <td>0.37</td>\n",
       "      <td>0.52</td>\n",
       "      <td>2</td>\n",
       "      <td>159</td>\n",
       "      <td>3</td>\n",
       "      <td>0</td>\n",
       "      <td>0</td>\n",
       "      <td>0</td>\n",
       "      <td>0</td>\n",
       "      <td>0</td>\n",
       "      <td>0</td>\n",
       "      <td>0</td>\n",
       "      <td>0</td>\n",
       "      <td>1</td>\n",
       "      <td>0</td>\n",
       "      <td>0</td>\n",
       "      <td>0</td>\n",
       "      <td>1</td>\n",
       "    </tr>\n",
       "    <tr>\n",
       "      <th>...</th>\n",
       "      <td>...</td>\n",
       "      <td>...</td>\n",
       "      <td>...</td>\n",
       "      <td>...</td>\n",
       "      <td>...</td>\n",
       "      <td>...</td>\n",
       "      <td>...</td>\n",
       "      <td>...</td>\n",
       "      <td>...</td>\n",
       "      <td>...</td>\n",
       "      <td>...</td>\n",
       "      <td>...</td>\n",
       "      <td>...</td>\n",
       "      <td>...</td>\n",
       "      <td>...</td>\n",
       "      <td>...</td>\n",
       "      <td>...</td>\n",
       "      <td>...</td>\n",
       "      <td>...</td>\n",
       "      <td>...</td>\n",
       "    </tr>\n",
       "    <tr>\n",
       "      <th>14994</th>\n",
       "      <td>1</td>\n",
       "      <td>0</td>\n",
       "      <td>0.40</td>\n",
       "      <td>0.57</td>\n",
       "      <td>2</td>\n",
       "      <td>151</td>\n",
       "      <td>3</td>\n",
       "      <td>0</td>\n",
       "      <td>0</td>\n",
       "      <td>0</td>\n",
       "      <td>0</td>\n",
       "      <td>0</td>\n",
       "      <td>0</td>\n",
       "      <td>0</td>\n",
       "      <td>0</td>\n",
       "      <td>0</td>\n",
       "      <td>1</td>\n",
       "      <td>0</td>\n",
       "      <td>0</td>\n",
       "      <td>1</td>\n",
       "    </tr>\n",
       "    <tr>\n",
       "      <th>14995</th>\n",
       "      <td>1</td>\n",
       "      <td>0</td>\n",
       "      <td>0.37</td>\n",
       "      <td>0.48</td>\n",
       "      <td>2</td>\n",
       "      <td>160</td>\n",
       "      <td>3</td>\n",
       "      <td>0</td>\n",
       "      <td>0</td>\n",
       "      <td>0</td>\n",
       "      <td>0</td>\n",
       "      <td>0</td>\n",
       "      <td>0</td>\n",
       "      <td>0</td>\n",
       "      <td>0</td>\n",
       "      <td>0</td>\n",
       "      <td>1</td>\n",
       "      <td>0</td>\n",
       "      <td>0</td>\n",
       "      <td>1</td>\n",
       "    </tr>\n",
       "    <tr>\n",
       "      <th>14996</th>\n",
       "      <td>1</td>\n",
       "      <td>0</td>\n",
       "      <td>0.37</td>\n",
       "      <td>0.53</td>\n",
       "      <td>2</td>\n",
       "      <td>143</td>\n",
       "      <td>3</td>\n",
       "      <td>0</td>\n",
       "      <td>0</td>\n",
       "      <td>0</td>\n",
       "      <td>0</td>\n",
       "      <td>0</td>\n",
       "      <td>0</td>\n",
       "      <td>0</td>\n",
       "      <td>0</td>\n",
       "      <td>0</td>\n",
       "      <td>1</td>\n",
       "      <td>0</td>\n",
       "      <td>0</td>\n",
       "      <td>1</td>\n",
       "    </tr>\n",
       "    <tr>\n",
       "      <th>14997</th>\n",
       "      <td>1</td>\n",
       "      <td>0</td>\n",
       "      <td>0.11</td>\n",
       "      <td>0.96</td>\n",
       "      <td>6</td>\n",
       "      <td>280</td>\n",
       "      <td>4</td>\n",
       "      <td>0</td>\n",
       "      <td>0</td>\n",
       "      <td>0</td>\n",
       "      <td>0</td>\n",
       "      <td>0</td>\n",
       "      <td>0</td>\n",
       "      <td>0</td>\n",
       "      <td>0</td>\n",
       "      <td>0</td>\n",
       "      <td>1</td>\n",
       "      <td>0</td>\n",
       "      <td>0</td>\n",
       "      <td>1</td>\n",
       "    </tr>\n",
       "    <tr>\n",
       "      <th>14998</th>\n",
       "      <td>1</td>\n",
       "      <td>0</td>\n",
       "      <td>0.37</td>\n",
       "      <td>0.52</td>\n",
       "      <td>2</td>\n",
       "      <td>158</td>\n",
       "      <td>3</td>\n",
       "      <td>0</td>\n",
       "      <td>0</td>\n",
       "      <td>0</td>\n",
       "      <td>0</td>\n",
       "      <td>0</td>\n",
       "      <td>0</td>\n",
       "      <td>0</td>\n",
       "      <td>0</td>\n",
       "      <td>0</td>\n",
       "      <td>1</td>\n",
       "      <td>0</td>\n",
       "      <td>0</td>\n",
       "      <td>1</td>\n",
       "    </tr>\n",
       "  </tbody>\n",
       "</table>\n",
       "<p>14999 rows × 20 columns</p>\n",
       "</div>"
      ],
      "text/plain": [
       "       left  promotion_last_5_years  satisfaction_level  last_evaluation  \\\n",
       "0         1                       0                0.38             0.53   \n",
       "1         1                       0                0.80             0.86   \n",
       "2         1                       0                0.11             0.88   \n",
       "3         1                       0                0.72             0.87   \n",
       "4         1                       0                0.37             0.52   \n",
       "...     ...                     ...                 ...              ...   \n",
       "14994     1                       0                0.40             0.57   \n",
       "14995     1                       0                0.37             0.48   \n",
       "14996     1                       0                0.37             0.53   \n",
       "14997     1                       0                0.11             0.96   \n",
       "14998     1                       0                0.37             0.52   \n",
       "\n",
       "       number_of_projects  average_monthly_hours  time_spent_with_the_company  \\\n",
       "0                       2                    157                            3   \n",
       "1                       5                    262                            6   \n",
       "2                       7                    272                            4   \n",
       "3                       5                    223                            5   \n",
       "4                       2                    159                            3   \n",
       "...                   ...                    ...                          ...   \n",
       "14994                   2                    151                            3   \n",
       "14995                   2                    160                            3   \n",
       "14996                   2                    143                            3   \n",
       "14997                   6                    280                            4   \n",
       "14998                   2                    158                            3   \n",
       "\n",
       "       work_accidents  division_IT  division_RandD  division_accounting  \\\n",
       "0                   0            0               0                    0   \n",
       "1                   0            0               0                    0   \n",
       "2                   0            0               0                    0   \n",
       "3                   0            0               0                    0   \n",
       "4                   0            0               0                    0   \n",
       "...               ...          ...             ...                  ...   \n",
       "14994               0            0               0                    0   \n",
       "14995               0            0               0                    0   \n",
       "14996               0            0               0                    0   \n",
       "14997               0            0               0                    0   \n",
       "14998               0            0               0                    0   \n",
       "\n",
       "       division_hr  division_management  division_marketing  \\\n",
       "0                0                    0                   0   \n",
       "1                0                    0                   0   \n",
       "2                0                    0                   0   \n",
       "3                0                    0                   0   \n",
       "4                0                    0                   0   \n",
       "...            ...                  ...                 ...   \n",
       "14994            0                    0                   0   \n",
       "14995            0                    0                   0   \n",
       "14996            0                    0                   0   \n",
       "14997            0                    0                   0   \n",
       "14998            0                    0                   0   \n",
       "\n",
       "       division_product_mng  division_sales  division_support  \\\n",
       "0                         0               1                 0   \n",
       "1                         0               1                 0   \n",
       "2                         0               1                 0   \n",
       "3                         0               1                 0   \n",
       "4                         0               1                 0   \n",
       "...                     ...             ...               ...   \n",
       "14994                     0               0                 1   \n",
       "14995                     0               0                 1   \n",
       "14996                     0               0                 1   \n",
       "14997                     0               0                 1   \n",
       "14998                     0               0                 1   \n",
       "\n",
       "       division_technical  salary_high  salary_low  \n",
       "0                       0            0           1  \n",
       "1                       0            0           0  \n",
       "2                       0            0           0  \n",
       "3                       0            0           1  \n",
       "4                       0            0           1  \n",
       "...                   ...          ...         ...  \n",
       "14994                   0            0           1  \n",
       "14995                   0            0           1  \n",
       "14996                   0            0           1  \n",
       "14997                   0            0           1  \n",
       "14998                   0            0           1  \n",
       "\n",
       "[14999 rows x 20 columns]"
      ]
     },
     "execution_count": 45,
     "metadata": {},
     "output_type": "execute_result"
    }
   ],
   "source": [
    "## Dropping medium salary level to avoid multicollinearity  \n",
    "\n",
    "df_all_dummies.drop([\"salary_medium\"], axis=1)"
   ]
  },
  {
   "cell_type": "code",
   "execution_count": 47,
   "id": "46996e6c",
   "metadata": {},
   "outputs": [],
   "source": [
    "df_cat_num = df"
   ]
  },
  {
   "cell_type": "code",
   "execution_count": 48,
   "id": "84348f4f",
   "metadata": {},
   "outputs": [],
   "source": [
    "# Dataframe where categorical salary is replaced with a numberical representation of the salary level\n",
    "\n",
    "df_cat_num = df_cat_num.replace('low', 1)\n",
    "df_cat_num = df_cat_num.replace('medium', 2)\n",
    "df_cat_num = df_cat_num.replace('high', 3)"
   ]
  },
  {
   "cell_type": "code",
   "execution_count": 51,
   "id": "ced82c0b",
   "metadata": {},
   "outputs": [],
   "source": [
    "df_d = df_all_dummies\n",
    "df_n = df_cat_num"
   ]
  },
  {
   "cell_type": "code",
   "execution_count": 52,
   "id": "f52872ec",
   "metadata": {},
   "outputs": [],
   "source": [
    "# sns.pairplot(df)"
   ]
  },
  {
   "cell_type": "markdown",
   "id": "fef7f955",
   "metadata": {},
   "source": [
    "#  KNN with df with all Dummy variables  (df_d)"
   ]
  },
  {
   "cell_type": "code",
   "execution_count": 53,
   "id": "cc239885",
   "metadata": {},
   "outputs": [
    {
     "data": {
      "text/html": [
       "<div>\n",
       "<style scoped>\n",
       "    .dataframe tbody tr th:only-of-type {\n",
       "        vertical-align: middle;\n",
       "    }\n",
       "\n",
       "    .dataframe tbody tr th {\n",
       "        vertical-align: top;\n",
       "    }\n",
       "\n",
       "    .dataframe thead th {\n",
       "        text-align: right;\n",
       "    }\n",
       "</style>\n",
       "<table border=\"1\" class=\"dataframe\">\n",
       "  <thead>\n",
       "    <tr style=\"text-align: right;\">\n",
       "      <th></th>\n",
       "      <th>left</th>\n",
       "      <th>promotion_last_5_years</th>\n",
       "      <th>satisfaction_level</th>\n",
       "      <th>last_evaluation</th>\n",
       "      <th>number_of_projects</th>\n",
       "      <th>average_monthly_hours</th>\n",
       "      <th>time_spent_with_the_company</th>\n",
       "      <th>work_accidents</th>\n",
       "      <th>division_IT</th>\n",
       "      <th>division_RandD</th>\n",
       "      <th>...</th>\n",
       "      <th>division_hr</th>\n",
       "      <th>division_management</th>\n",
       "      <th>division_marketing</th>\n",
       "      <th>division_product_mng</th>\n",
       "      <th>division_sales</th>\n",
       "      <th>division_support</th>\n",
       "      <th>division_technical</th>\n",
       "      <th>salary_high</th>\n",
       "      <th>salary_low</th>\n",
       "      <th>salary_medium</th>\n",
       "    </tr>\n",
       "  </thead>\n",
       "  <tbody>\n",
       "    <tr>\n",
       "      <th>0</th>\n",
       "      <td>1</td>\n",
       "      <td>0</td>\n",
       "      <td>0.38</td>\n",
       "      <td>0.53</td>\n",
       "      <td>2</td>\n",
       "      <td>157</td>\n",
       "      <td>3</td>\n",
       "      <td>0</td>\n",
       "      <td>0</td>\n",
       "      <td>0</td>\n",
       "      <td>...</td>\n",
       "      <td>0</td>\n",
       "      <td>0</td>\n",
       "      <td>0</td>\n",
       "      <td>0</td>\n",
       "      <td>1</td>\n",
       "      <td>0</td>\n",
       "      <td>0</td>\n",
       "      <td>0</td>\n",
       "      <td>1</td>\n",
       "      <td>0</td>\n",
       "    </tr>\n",
       "    <tr>\n",
       "      <th>1</th>\n",
       "      <td>1</td>\n",
       "      <td>0</td>\n",
       "      <td>0.80</td>\n",
       "      <td>0.86</td>\n",
       "      <td>5</td>\n",
       "      <td>262</td>\n",
       "      <td>6</td>\n",
       "      <td>0</td>\n",
       "      <td>0</td>\n",
       "      <td>0</td>\n",
       "      <td>...</td>\n",
       "      <td>0</td>\n",
       "      <td>0</td>\n",
       "      <td>0</td>\n",
       "      <td>0</td>\n",
       "      <td>1</td>\n",
       "      <td>0</td>\n",
       "      <td>0</td>\n",
       "      <td>0</td>\n",
       "      <td>0</td>\n",
       "      <td>1</td>\n",
       "    </tr>\n",
       "    <tr>\n",
       "      <th>2</th>\n",
       "      <td>1</td>\n",
       "      <td>0</td>\n",
       "      <td>0.11</td>\n",
       "      <td>0.88</td>\n",
       "      <td>7</td>\n",
       "      <td>272</td>\n",
       "      <td>4</td>\n",
       "      <td>0</td>\n",
       "      <td>0</td>\n",
       "      <td>0</td>\n",
       "      <td>...</td>\n",
       "      <td>0</td>\n",
       "      <td>0</td>\n",
       "      <td>0</td>\n",
       "      <td>0</td>\n",
       "      <td>1</td>\n",
       "      <td>0</td>\n",
       "      <td>0</td>\n",
       "      <td>0</td>\n",
       "      <td>0</td>\n",
       "      <td>1</td>\n",
       "    </tr>\n",
       "    <tr>\n",
       "      <th>3</th>\n",
       "      <td>1</td>\n",
       "      <td>0</td>\n",
       "      <td>0.72</td>\n",
       "      <td>0.87</td>\n",
       "      <td>5</td>\n",
       "      <td>223</td>\n",
       "      <td>5</td>\n",
       "      <td>0</td>\n",
       "      <td>0</td>\n",
       "      <td>0</td>\n",
       "      <td>...</td>\n",
       "      <td>0</td>\n",
       "      <td>0</td>\n",
       "      <td>0</td>\n",
       "      <td>0</td>\n",
       "      <td>1</td>\n",
       "      <td>0</td>\n",
       "      <td>0</td>\n",
       "      <td>0</td>\n",
       "      <td>1</td>\n",
       "      <td>0</td>\n",
       "    </tr>\n",
       "    <tr>\n",
       "      <th>4</th>\n",
       "      <td>1</td>\n",
       "      <td>0</td>\n",
       "      <td>0.37</td>\n",
       "      <td>0.52</td>\n",
       "      <td>2</td>\n",
       "      <td>159</td>\n",
       "      <td>3</td>\n",
       "      <td>0</td>\n",
       "      <td>0</td>\n",
       "      <td>0</td>\n",
       "      <td>...</td>\n",
       "      <td>0</td>\n",
       "      <td>0</td>\n",
       "      <td>0</td>\n",
       "      <td>0</td>\n",
       "      <td>1</td>\n",
       "      <td>0</td>\n",
       "      <td>0</td>\n",
       "      <td>0</td>\n",
       "      <td>1</td>\n",
       "      <td>0</td>\n",
       "    </tr>\n",
       "  </tbody>\n",
       "</table>\n",
       "<p>5 rows × 21 columns</p>\n",
       "</div>"
      ],
      "text/plain": [
       "   left  promotion_last_5_years  satisfaction_level  last_evaluation  \\\n",
       "0     1                       0                0.38             0.53   \n",
       "1     1                       0                0.80             0.86   \n",
       "2     1                       0                0.11             0.88   \n",
       "3     1                       0                0.72             0.87   \n",
       "4     1                       0                0.37             0.52   \n",
       "\n",
       "   number_of_projects  average_monthly_hours  time_spent_with_the_company  \\\n",
       "0                   2                    157                            3   \n",
       "1                   5                    262                            6   \n",
       "2                   7                    272                            4   \n",
       "3                   5                    223                            5   \n",
       "4                   2                    159                            3   \n",
       "\n",
       "   work_accidents  division_IT  division_RandD  ...  division_hr  \\\n",
       "0               0            0               0  ...            0   \n",
       "1               0            0               0  ...            0   \n",
       "2               0            0               0  ...            0   \n",
       "3               0            0               0  ...            0   \n",
       "4               0            0               0  ...            0   \n",
       "\n",
       "   division_management  division_marketing  division_product_mng  \\\n",
       "0                    0                   0                     0   \n",
       "1                    0                   0                     0   \n",
       "2                    0                   0                     0   \n",
       "3                    0                   0                     0   \n",
       "4                    0                   0                     0   \n",
       "\n",
       "   division_sales  division_support  division_technical  salary_high  \\\n",
       "0               1                 0                   0            0   \n",
       "1               1                 0                   0            0   \n",
       "2               1                 0                   0            0   \n",
       "3               1                 0                   0            0   \n",
       "4               1                 0                   0            0   \n",
       "\n",
       "   salary_low  salary_medium  \n",
       "0           1              0  \n",
       "1           0              1  \n",
       "2           0              1  \n",
       "3           1              0  \n",
       "4           1              0  \n",
       "\n",
       "[5 rows x 21 columns]"
      ]
     },
     "execution_count": 53,
     "metadata": {},
     "output_type": "execute_result"
    }
   ],
   "source": [
    "df_d.head()"
   ]
  },
  {
   "cell_type": "code",
   "execution_count": 54,
   "id": "7c16c731",
   "metadata": {},
   "outputs": [],
   "source": [
    "X = df_d.iloc[:, 1:]\n"
   ]
  },
  {
   "cell_type": "code",
   "execution_count": 55,
   "id": "1c02cc34",
   "metadata": {},
   "outputs": [
    {
     "data": {
      "text/html": [
       "<div>\n",
       "<style scoped>\n",
       "    .dataframe tbody tr th:only-of-type {\n",
       "        vertical-align: middle;\n",
       "    }\n",
       "\n",
       "    .dataframe tbody tr th {\n",
       "        vertical-align: top;\n",
       "    }\n",
       "\n",
       "    .dataframe thead th {\n",
       "        text-align: right;\n",
       "    }\n",
       "</style>\n",
       "<table border=\"1\" class=\"dataframe\">\n",
       "  <thead>\n",
       "    <tr style=\"text-align: right;\">\n",
       "      <th></th>\n",
       "      <th>promotion_last_5_years</th>\n",
       "      <th>satisfaction_level</th>\n",
       "      <th>last_evaluation</th>\n",
       "      <th>number_of_projects</th>\n",
       "      <th>average_monthly_hours</th>\n",
       "      <th>time_spent_with_the_company</th>\n",
       "      <th>work_accidents</th>\n",
       "      <th>division_IT</th>\n",
       "      <th>division_RandD</th>\n",
       "      <th>division_accounting</th>\n",
       "      <th>division_hr</th>\n",
       "      <th>division_management</th>\n",
       "      <th>division_marketing</th>\n",
       "      <th>division_product_mng</th>\n",
       "      <th>division_sales</th>\n",
       "      <th>division_support</th>\n",
       "      <th>division_technical</th>\n",
       "      <th>salary_high</th>\n",
       "      <th>salary_low</th>\n",
       "      <th>salary_medium</th>\n",
       "    </tr>\n",
       "  </thead>\n",
       "  <tbody>\n",
       "    <tr>\n",
       "      <th>0</th>\n",
       "      <td>0</td>\n",
       "      <td>0.38</td>\n",
       "      <td>0.53</td>\n",
       "      <td>2</td>\n",
       "      <td>157</td>\n",
       "      <td>3</td>\n",
       "      <td>0</td>\n",
       "      <td>0</td>\n",
       "      <td>0</td>\n",
       "      <td>0</td>\n",
       "      <td>0</td>\n",
       "      <td>0</td>\n",
       "      <td>0</td>\n",
       "      <td>0</td>\n",
       "      <td>1</td>\n",
       "      <td>0</td>\n",
       "      <td>0</td>\n",
       "      <td>0</td>\n",
       "      <td>1</td>\n",
       "      <td>0</td>\n",
       "    </tr>\n",
       "    <tr>\n",
       "      <th>1</th>\n",
       "      <td>0</td>\n",
       "      <td>0.80</td>\n",
       "      <td>0.86</td>\n",
       "      <td>5</td>\n",
       "      <td>262</td>\n",
       "      <td>6</td>\n",
       "      <td>0</td>\n",
       "      <td>0</td>\n",
       "      <td>0</td>\n",
       "      <td>0</td>\n",
       "      <td>0</td>\n",
       "      <td>0</td>\n",
       "      <td>0</td>\n",
       "      <td>0</td>\n",
       "      <td>1</td>\n",
       "      <td>0</td>\n",
       "      <td>0</td>\n",
       "      <td>0</td>\n",
       "      <td>0</td>\n",
       "      <td>1</td>\n",
       "    </tr>\n",
       "    <tr>\n",
       "      <th>2</th>\n",
       "      <td>0</td>\n",
       "      <td>0.11</td>\n",
       "      <td>0.88</td>\n",
       "      <td>7</td>\n",
       "      <td>272</td>\n",
       "      <td>4</td>\n",
       "      <td>0</td>\n",
       "      <td>0</td>\n",
       "      <td>0</td>\n",
       "      <td>0</td>\n",
       "      <td>0</td>\n",
       "      <td>0</td>\n",
       "      <td>0</td>\n",
       "      <td>0</td>\n",
       "      <td>1</td>\n",
       "      <td>0</td>\n",
       "      <td>0</td>\n",
       "      <td>0</td>\n",
       "      <td>0</td>\n",
       "      <td>1</td>\n",
       "    </tr>\n",
       "    <tr>\n",
       "      <th>3</th>\n",
       "      <td>0</td>\n",
       "      <td>0.72</td>\n",
       "      <td>0.87</td>\n",
       "      <td>5</td>\n",
       "      <td>223</td>\n",
       "      <td>5</td>\n",
       "      <td>0</td>\n",
       "      <td>0</td>\n",
       "      <td>0</td>\n",
       "      <td>0</td>\n",
       "      <td>0</td>\n",
       "      <td>0</td>\n",
       "      <td>0</td>\n",
       "      <td>0</td>\n",
       "      <td>1</td>\n",
       "      <td>0</td>\n",
       "      <td>0</td>\n",
       "      <td>0</td>\n",
       "      <td>1</td>\n",
       "      <td>0</td>\n",
       "    </tr>\n",
       "    <tr>\n",
       "      <th>4</th>\n",
       "      <td>0</td>\n",
       "      <td>0.37</td>\n",
       "      <td>0.52</td>\n",
       "      <td>2</td>\n",
       "      <td>159</td>\n",
       "      <td>3</td>\n",
       "      <td>0</td>\n",
       "      <td>0</td>\n",
       "      <td>0</td>\n",
       "      <td>0</td>\n",
       "      <td>0</td>\n",
       "      <td>0</td>\n",
       "      <td>0</td>\n",
       "      <td>0</td>\n",
       "      <td>1</td>\n",
       "      <td>0</td>\n",
       "      <td>0</td>\n",
       "      <td>0</td>\n",
       "      <td>1</td>\n",
       "      <td>0</td>\n",
       "    </tr>\n",
       "  </tbody>\n",
       "</table>\n",
       "</div>"
      ],
      "text/plain": [
       "   promotion_last_5_years  satisfaction_level  last_evaluation  \\\n",
       "0                       0                0.38             0.53   \n",
       "1                       0                0.80             0.86   \n",
       "2                       0                0.11             0.88   \n",
       "3                       0                0.72             0.87   \n",
       "4                       0                0.37             0.52   \n",
       "\n",
       "   number_of_projects  average_monthly_hours  time_spent_with_the_company  \\\n",
       "0                   2                    157                            3   \n",
       "1                   5                    262                            6   \n",
       "2                   7                    272                            4   \n",
       "3                   5                    223                            5   \n",
       "4                   2                    159                            3   \n",
       "\n",
       "   work_accidents  division_IT  division_RandD  division_accounting  \\\n",
       "0               0            0               0                    0   \n",
       "1               0            0               0                    0   \n",
       "2               0            0               0                    0   \n",
       "3               0            0               0                    0   \n",
       "4               0            0               0                    0   \n",
       "\n",
       "   division_hr  division_management  division_marketing  division_product_mng  \\\n",
       "0            0                    0                   0                     0   \n",
       "1            0                    0                   0                     0   \n",
       "2            0                    0                   0                     0   \n",
       "3            0                    0                   0                     0   \n",
       "4            0                    0                   0                     0   \n",
       "\n",
       "   division_sales  division_support  division_technical  salary_high  \\\n",
       "0               1                 0                   0            0   \n",
       "1               1                 0                   0            0   \n",
       "2               1                 0                   0            0   \n",
       "3               1                 0                   0            0   \n",
       "4               1                 0                   0            0   \n",
       "\n",
       "   salary_low  salary_medium  \n",
       "0           1              0  \n",
       "1           0              1  \n",
       "2           0              1  \n",
       "3           1              0  \n",
       "4           1              0  "
      ]
     },
     "execution_count": 55,
     "metadata": {},
     "output_type": "execute_result"
    }
   ],
   "source": [
    "X.head()"
   ]
  },
  {
   "cell_type": "code",
   "execution_count": 56,
   "id": "731362a8",
   "metadata": {},
   "outputs": [],
   "source": [
    "## Making y into numpy array for train test split \n",
    "y = df_d.loc[:, [\"left\"]]\n",
    "y = np.ravel(y)"
   ]
  },
  {
   "cell_type": "code",
   "execution_count": 57,
   "id": "37dc2323",
   "metadata": {},
   "outputs": [],
   "source": [
    "X_train, X_test, y_train, y_test = train_test_split(X, y, test_size=0.2, random_state=50)"
   ]
  },
  {
   "cell_type": "code",
   "execution_count": 58,
   "id": "c8eb3481",
   "metadata": {
    "scrolled": true
   },
   "outputs": [
    {
     "name": "stdout",
     "output_type": "stream",
     "text": [
      "(11999, 20)\n"
     ]
    }
   ],
   "source": [
    "# Roughly 12,000 data points in training set \n",
    "print(X_train.shape)"
   ]
  },
  {
   "cell_type": "code",
   "execution_count": 59,
   "id": "f33740bd",
   "metadata": {},
   "outputs": [
    {
     "data": {
      "text/plain": [
       "(11999,)"
      ]
     },
     "execution_count": 59,
     "metadata": {},
     "output_type": "execute_result"
    }
   ],
   "source": [
    "y_train.shape"
   ]
  },
  {
   "cell_type": "code",
   "execution_count": 60,
   "id": "193b846c",
   "metadata": {},
   "outputs": [
    {
     "name": "stdout",
     "output_type": "stream",
     "text": [
      "(3000, 20)\n"
     ]
    }
   ],
   "source": [
    "# 3,000 rows 20 features in test set \n",
    "print(X_test.shape)"
   ]
  },
  {
   "cell_type": "code",
   "execution_count": 61,
   "id": "ae19f4b9",
   "metadata": {},
   "outputs": [],
   "source": [
    "# Fitting model to train data, prediction \n",
    "knn = KNeighborsClassifier(n_neighbors=5)\n",
    "knn.fit(X_train, y_train)\n",
    "y_pred = knn.predict(X_test)\n"
   ]
  },
  {
   "cell_type": "code",
   "execution_count": 62,
   "id": "eb782789",
   "metadata": {},
   "outputs": [
    {
     "name": "stdout",
     "output_type": "stream",
     "text": [
      "Accuracy score for df_d:  0.9263333333333333\n",
      "Recall score for df_d:  0.9123287671232877\n",
      "Precision score for df_d:  0.8092345078979344\n",
      "f1 score for df_d:  0.8576947842884739\n"
     ]
    }
   ],
   "source": [
    "## Performance metrics below \n",
    "\n",
    "print(\"Accuracy score for df_d: \" , metrics.accuracy_score(y_test, y_pred))\n",
    "print(\"Recall score for df_d: \",metrics.recall_score(y_test, y_pred))\n",
    "print(\"Precision score for df_d: \",metrics.precision_score(y_test, y_pred))\n",
    "print(\"f1 score for df_d: \", metrics.f1_score(y_test, y_pred))"
   ]
  },
  {
   "cell_type": "code",
   "execution_count": 64,
   "id": "44431a17",
   "metadata": {},
   "outputs": [
    {
     "data": {
      "text/plain": [
       "0.2743333333333333"
      ]
     },
     "execution_count": 64,
     "metadata": {},
     "output_type": "execute_result"
    }
   ],
   "source": [
    "## Prediction of 27.4% of employees as having left \n",
    "\n",
    "y_pred.mean()"
   ]
  },
  {
   "cell_type": "code",
   "execution_count": 65,
   "id": "316b612c",
   "metadata": {},
   "outputs": [
    {
     "name": "stdout",
     "output_type": "stream",
     "text": [
      "kNN confusion matrix: \n",
      "\n",
      " [[2113  157]\n",
      " [  64  666]]\n"
     ]
    }
   ],
   "source": [
    "print(\"kNN confusion matrix: \\n\\n\", confusion_matrix(y_test, knn.predict(X_test)))\n"
   ]
  },
  {
   "cell_type": "code",
   "execution_count": 66,
   "id": "813d6df8",
   "metadata": {},
   "outputs": [
    {
     "name": "stdout",
     "output_type": "stream",
     "text": [
      "kNN confusion matrix: \n",
      "\n",
      " [[2113  157]\n",
      " [  64  666]]\n"
     ]
    }
   ],
   "source": [
    "print(\"kNN confusion matrix: \\n\\n\", confusion_matrix(y_test, knn.predict(X_test)))\n"
   ]
  },
  {
   "cell_type": "code",
   "execution_count": 156,
   "id": "71615b3f",
   "metadata": {},
   "outputs": [
    {
     "data": {
      "text/html": [
       "<div>\n",
       "<style scoped>\n",
       "    .dataframe tbody tr th:only-of-type {\n",
       "        vertical-align: middle;\n",
       "    }\n",
       "\n",
       "    .dataframe tbody tr th {\n",
       "        vertical-align: top;\n",
       "    }\n",
       "\n",
       "    .dataframe thead th {\n",
       "        text-align: right;\n",
       "    }\n",
       "</style>\n",
       "<table border=\"1\" class=\"dataframe\">\n",
       "  <thead>\n",
       "    <tr style=\"text-align: right;\">\n",
       "      <th></th>\n",
       "      <th>left</th>\n",
       "      <th>promotion_last_5_years</th>\n",
       "      <th>satisfaction_level</th>\n",
       "      <th>last_evaluation</th>\n",
       "      <th>number_of_projects</th>\n",
       "      <th>average_monthly_hours</th>\n",
       "      <th>time_spent_with_the_company</th>\n",
       "      <th>work_accidents</th>\n",
       "      <th>division_IT</th>\n",
       "      <th>division_RandD</th>\n",
       "      <th>...</th>\n",
       "      <th>division_hr</th>\n",
       "      <th>division_management</th>\n",
       "      <th>division_marketing</th>\n",
       "      <th>division_product_mng</th>\n",
       "      <th>division_sales</th>\n",
       "      <th>division_support</th>\n",
       "      <th>division_technical</th>\n",
       "      <th>salary_high</th>\n",
       "      <th>salary_low</th>\n",
       "      <th>salary_medium</th>\n",
       "    </tr>\n",
       "  </thead>\n",
       "  <tbody>\n",
       "    <tr>\n",
       "      <th>0</th>\n",
       "      <td>1</td>\n",
       "      <td>0</td>\n",
       "      <td>0.38</td>\n",
       "      <td>0.53</td>\n",
       "      <td>2</td>\n",
       "      <td>157</td>\n",
       "      <td>3</td>\n",
       "      <td>0</td>\n",
       "      <td>0</td>\n",
       "      <td>0</td>\n",
       "      <td>...</td>\n",
       "      <td>0</td>\n",
       "      <td>0</td>\n",
       "      <td>0</td>\n",
       "      <td>0</td>\n",
       "      <td>1</td>\n",
       "      <td>0</td>\n",
       "      <td>0</td>\n",
       "      <td>0</td>\n",
       "      <td>1</td>\n",
       "      <td>0</td>\n",
       "    </tr>\n",
       "    <tr>\n",
       "      <th>1</th>\n",
       "      <td>1</td>\n",
       "      <td>0</td>\n",
       "      <td>0.80</td>\n",
       "      <td>0.86</td>\n",
       "      <td>5</td>\n",
       "      <td>262</td>\n",
       "      <td>6</td>\n",
       "      <td>0</td>\n",
       "      <td>0</td>\n",
       "      <td>0</td>\n",
       "      <td>...</td>\n",
       "      <td>0</td>\n",
       "      <td>0</td>\n",
       "      <td>0</td>\n",
       "      <td>0</td>\n",
       "      <td>1</td>\n",
       "      <td>0</td>\n",
       "      <td>0</td>\n",
       "      <td>0</td>\n",
       "      <td>0</td>\n",
       "      <td>1</td>\n",
       "    </tr>\n",
       "    <tr>\n",
       "      <th>2</th>\n",
       "      <td>1</td>\n",
       "      <td>0</td>\n",
       "      <td>0.11</td>\n",
       "      <td>0.88</td>\n",
       "      <td>7</td>\n",
       "      <td>272</td>\n",
       "      <td>4</td>\n",
       "      <td>0</td>\n",
       "      <td>0</td>\n",
       "      <td>0</td>\n",
       "      <td>...</td>\n",
       "      <td>0</td>\n",
       "      <td>0</td>\n",
       "      <td>0</td>\n",
       "      <td>0</td>\n",
       "      <td>1</td>\n",
       "      <td>0</td>\n",
       "      <td>0</td>\n",
       "      <td>0</td>\n",
       "      <td>0</td>\n",
       "      <td>1</td>\n",
       "    </tr>\n",
       "    <tr>\n",
       "      <th>3</th>\n",
       "      <td>1</td>\n",
       "      <td>0</td>\n",
       "      <td>0.72</td>\n",
       "      <td>0.87</td>\n",
       "      <td>5</td>\n",
       "      <td>223</td>\n",
       "      <td>5</td>\n",
       "      <td>0</td>\n",
       "      <td>0</td>\n",
       "      <td>0</td>\n",
       "      <td>...</td>\n",
       "      <td>0</td>\n",
       "      <td>0</td>\n",
       "      <td>0</td>\n",
       "      <td>0</td>\n",
       "      <td>1</td>\n",
       "      <td>0</td>\n",
       "      <td>0</td>\n",
       "      <td>0</td>\n",
       "      <td>1</td>\n",
       "      <td>0</td>\n",
       "    </tr>\n",
       "    <tr>\n",
       "      <th>4</th>\n",
       "      <td>1</td>\n",
       "      <td>0</td>\n",
       "      <td>0.37</td>\n",
       "      <td>0.52</td>\n",
       "      <td>2</td>\n",
       "      <td>159</td>\n",
       "      <td>3</td>\n",
       "      <td>0</td>\n",
       "      <td>0</td>\n",
       "      <td>0</td>\n",
       "      <td>...</td>\n",
       "      <td>0</td>\n",
       "      <td>0</td>\n",
       "      <td>0</td>\n",
       "      <td>0</td>\n",
       "      <td>1</td>\n",
       "      <td>0</td>\n",
       "      <td>0</td>\n",
       "      <td>0</td>\n",
       "      <td>1</td>\n",
       "      <td>0</td>\n",
       "    </tr>\n",
       "    <tr>\n",
       "      <th>...</th>\n",
       "      <td>...</td>\n",
       "      <td>...</td>\n",
       "      <td>...</td>\n",
       "      <td>...</td>\n",
       "      <td>...</td>\n",
       "      <td>...</td>\n",
       "      <td>...</td>\n",
       "      <td>...</td>\n",
       "      <td>...</td>\n",
       "      <td>...</td>\n",
       "      <td>...</td>\n",
       "      <td>...</td>\n",
       "      <td>...</td>\n",
       "      <td>...</td>\n",
       "      <td>...</td>\n",
       "      <td>...</td>\n",
       "      <td>...</td>\n",
       "      <td>...</td>\n",
       "      <td>...</td>\n",
       "      <td>...</td>\n",
       "      <td>...</td>\n",
       "    </tr>\n",
       "    <tr>\n",
       "      <th>14994</th>\n",
       "      <td>1</td>\n",
       "      <td>0</td>\n",
       "      <td>0.40</td>\n",
       "      <td>0.57</td>\n",
       "      <td>2</td>\n",
       "      <td>151</td>\n",
       "      <td>3</td>\n",
       "      <td>0</td>\n",
       "      <td>0</td>\n",
       "      <td>0</td>\n",
       "      <td>...</td>\n",
       "      <td>0</td>\n",
       "      <td>0</td>\n",
       "      <td>0</td>\n",
       "      <td>0</td>\n",
       "      <td>0</td>\n",
       "      <td>1</td>\n",
       "      <td>0</td>\n",
       "      <td>0</td>\n",
       "      <td>1</td>\n",
       "      <td>0</td>\n",
       "    </tr>\n",
       "    <tr>\n",
       "      <th>14995</th>\n",
       "      <td>1</td>\n",
       "      <td>0</td>\n",
       "      <td>0.37</td>\n",
       "      <td>0.48</td>\n",
       "      <td>2</td>\n",
       "      <td>160</td>\n",
       "      <td>3</td>\n",
       "      <td>0</td>\n",
       "      <td>0</td>\n",
       "      <td>0</td>\n",
       "      <td>...</td>\n",
       "      <td>0</td>\n",
       "      <td>0</td>\n",
       "      <td>0</td>\n",
       "      <td>0</td>\n",
       "      <td>0</td>\n",
       "      <td>1</td>\n",
       "      <td>0</td>\n",
       "      <td>0</td>\n",
       "      <td>1</td>\n",
       "      <td>0</td>\n",
       "    </tr>\n",
       "    <tr>\n",
       "      <th>14996</th>\n",
       "      <td>1</td>\n",
       "      <td>0</td>\n",
       "      <td>0.37</td>\n",
       "      <td>0.53</td>\n",
       "      <td>2</td>\n",
       "      <td>143</td>\n",
       "      <td>3</td>\n",
       "      <td>0</td>\n",
       "      <td>0</td>\n",
       "      <td>0</td>\n",
       "      <td>...</td>\n",
       "      <td>0</td>\n",
       "      <td>0</td>\n",
       "      <td>0</td>\n",
       "      <td>0</td>\n",
       "      <td>0</td>\n",
       "      <td>1</td>\n",
       "      <td>0</td>\n",
       "      <td>0</td>\n",
       "      <td>1</td>\n",
       "      <td>0</td>\n",
       "    </tr>\n",
       "    <tr>\n",
       "      <th>14997</th>\n",
       "      <td>1</td>\n",
       "      <td>0</td>\n",
       "      <td>0.11</td>\n",
       "      <td>0.96</td>\n",
       "      <td>6</td>\n",
       "      <td>280</td>\n",
       "      <td>4</td>\n",
       "      <td>0</td>\n",
       "      <td>0</td>\n",
       "      <td>0</td>\n",
       "      <td>...</td>\n",
       "      <td>0</td>\n",
       "      <td>0</td>\n",
       "      <td>0</td>\n",
       "      <td>0</td>\n",
       "      <td>0</td>\n",
       "      <td>1</td>\n",
       "      <td>0</td>\n",
       "      <td>0</td>\n",
       "      <td>1</td>\n",
       "      <td>0</td>\n",
       "    </tr>\n",
       "    <tr>\n",
       "      <th>14998</th>\n",
       "      <td>1</td>\n",
       "      <td>0</td>\n",
       "      <td>0.37</td>\n",
       "      <td>0.52</td>\n",
       "      <td>2</td>\n",
       "      <td>158</td>\n",
       "      <td>3</td>\n",
       "      <td>0</td>\n",
       "      <td>0</td>\n",
       "      <td>0</td>\n",
       "      <td>...</td>\n",
       "      <td>0</td>\n",
       "      <td>0</td>\n",
       "      <td>0</td>\n",
       "      <td>0</td>\n",
       "      <td>0</td>\n",
       "      <td>1</td>\n",
       "      <td>0</td>\n",
       "      <td>0</td>\n",
       "      <td>1</td>\n",
       "      <td>0</td>\n",
       "    </tr>\n",
       "  </tbody>\n",
       "</table>\n",
       "<p>14999 rows × 21 columns</p>\n",
       "</div>"
      ],
      "text/plain": [
       "       left  promotion_last_5_years  satisfaction_level  last_evaluation  \\\n",
       "0         1                       0                0.38             0.53   \n",
       "1         1                       0                0.80             0.86   \n",
       "2         1                       0                0.11             0.88   \n",
       "3         1                       0                0.72             0.87   \n",
       "4         1                       0                0.37             0.52   \n",
       "...     ...                     ...                 ...              ...   \n",
       "14994     1                       0                0.40             0.57   \n",
       "14995     1                       0                0.37             0.48   \n",
       "14996     1                       0                0.37             0.53   \n",
       "14997     1                       0                0.11             0.96   \n",
       "14998     1                       0                0.37             0.52   \n",
       "\n",
       "       number_of_projects  average_monthly_hours  time_spent_with_the_company  \\\n",
       "0                       2                    157                            3   \n",
       "1                       5                    262                            6   \n",
       "2                       7                    272                            4   \n",
       "3                       5                    223                            5   \n",
       "4                       2                    159                            3   \n",
       "...                   ...                    ...                          ...   \n",
       "14994                   2                    151                            3   \n",
       "14995                   2                    160                            3   \n",
       "14996                   2                    143                            3   \n",
       "14997                   6                    280                            4   \n",
       "14998                   2                    158                            3   \n",
       "\n",
       "       work_accidents  division_IT  division_RandD  ...  division_hr  \\\n",
       "0                   0            0               0  ...            0   \n",
       "1                   0            0               0  ...            0   \n",
       "2                   0            0               0  ...            0   \n",
       "3                   0            0               0  ...            0   \n",
       "4                   0            0               0  ...            0   \n",
       "...               ...          ...             ...  ...          ...   \n",
       "14994               0            0               0  ...            0   \n",
       "14995               0            0               0  ...            0   \n",
       "14996               0            0               0  ...            0   \n",
       "14997               0            0               0  ...            0   \n",
       "14998               0            0               0  ...            0   \n",
       "\n",
       "       division_management  division_marketing  division_product_mng  \\\n",
       "0                        0                   0                     0   \n",
       "1                        0                   0                     0   \n",
       "2                        0                   0                     0   \n",
       "3                        0                   0                     0   \n",
       "4                        0                   0                     0   \n",
       "...                    ...                 ...                   ...   \n",
       "14994                    0                   0                     0   \n",
       "14995                    0                   0                     0   \n",
       "14996                    0                   0                     0   \n",
       "14997                    0                   0                     0   \n",
       "14998                    0                   0                     0   \n",
       "\n",
       "       division_sales  division_support  division_technical  salary_high  \\\n",
       "0                   1                 0                   0            0   \n",
       "1                   1                 0                   0            0   \n",
       "2                   1                 0                   0            0   \n",
       "3                   1                 0                   0            0   \n",
       "4                   1                 0                   0            0   \n",
       "...               ...               ...                 ...          ...   \n",
       "14994               0                 1                   0            0   \n",
       "14995               0                 1                   0            0   \n",
       "14996               0                 1                   0            0   \n",
       "14997               0                 1                   0            0   \n",
       "14998               0                 1                   0            0   \n",
       "\n",
       "       salary_low  salary_medium  \n",
       "0               1              0  \n",
       "1               0              1  \n",
       "2               0              1  \n",
       "3               1              0  \n",
       "4               1              0  \n",
       "...           ...            ...  \n",
       "14994           1              0  \n",
       "14995           1              0  \n",
       "14996           1              0  \n",
       "14997           1              0  \n",
       "14998           1              0  \n",
       "\n",
       "[14999 rows x 21 columns]"
      ]
     },
     "execution_count": 156,
     "metadata": {},
     "output_type": "execute_result"
    }
   ],
   "source": [
    "df_d "
   ]
  },
  {
   "cell_type": "markdown",
   "id": "0beeae5d",
   "metadata": {},
   "source": [
    "## KNN for 2nd df, using a numerical value to represent salary rather than a categorical value"
   ]
  },
  {
   "cell_type": "code",
   "execution_count": 67,
   "id": "49d73fb2",
   "metadata": {
    "scrolled": false
   },
   "outputs": [
    {
     "data": {
      "text/html": [
       "<div>\n",
       "<style scoped>\n",
       "    .dataframe tbody tr th:only-of-type {\n",
       "        vertical-align: middle;\n",
       "    }\n",
       "\n",
       "    .dataframe tbody tr th {\n",
       "        vertical-align: top;\n",
       "    }\n",
       "\n",
       "    .dataframe thead th {\n",
       "        text-align: right;\n",
       "    }\n",
       "</style>\n",
       "<table border=\"1\" class=\"dataframe\">\n",
       "  <thead>\n",
       "    <tr style=\"text-align: right;\">\n",
       "      <th></th>\n",
       "      <th>left</th>\n",
       "      <th>promotion_last_5_years</th>\n",
       "      <th>salary</th>\n",
       "      <th>satisfaction_level</th>\n",
       "      <th>last_evaluation</th>\n",
       "      <th>number_of_projects</th>\n",
       "      <th>average_monthly_hours</th>\n",
       "      <th>time_spent_with_the_company</th>\n",
       "      <th>work_accidents</th>\n",
       "      <th>division_IT</th>\n",
       "      <th>division_RandD</th>\n",
       "      <th>division_accounting</th>\n",
       "      <th>division_hr</th>\n",
       "      <th>division_management</th>\n",
       "      <th>division_marketing</th>\n",
       "      <th>division_product_mng</th>\n",
       "      <th>division_sales</th>\n",
       "      <th>division_support</th>\n",
       "      <th>division_technical</th>\n",
       "    </tr>\n",
       "  </thead>\n",
       "  <tbody>\n",
       "    <tr>\n",
       "      <th>0</th>\n",
       "      <td>1</td>\n",
       "      <td>0</td>\n",
       "      <td>1</td>\n",
       "      <td>0.38</td>\n",
       "      <td>0.53</td>\n",
       "      <td>2</td>\n",
       "      <td>157</td>\n",
       "      <td>3</td>\n",
       "      <td>0</td>\n",
       "      <td>0</td>\n",
       "      <td>0</td>\n",
       "      <td>0</td>\n",
       "      <td>0</td>\n",
       "      <td>0</td>\n",
       "      <td>0</td>\n",
       "      <td>0</td>\n",
       "      <td>1</td>\n",
       "      <td>0</td>\n",
       "      <td>0</td>\n",
       "    </tr>\n",
       "    <tr>\n",
       "      <th>1</th>\n",
       "      <td>1</td>\n",
       "      <td>0</td>\n",
       "      <td>2</td>\n",
       "      <td>0.80</td>\n",
       "      <td>0.86</td>\n",
       "      <td>5</td>\n",
       "      <td>262</td>\n",
       "      <td>6</td>\n",
       "      <td>0</td>\n",
       "      <td>0</td>\n",
       "      <td>0</td>\n",
       "      <td>0</td>\n",
       "      <td>0</td>\n",
       "      <td>0</td>\n",
       "      <td>0</td>\n",
       "      <td>0</td>\n",
       "      <td>1</td>\n",
       "      <td>0</td>\n",
       "      <td>0</td>\n",
       "    </tr>\n",
       "    <tr>\n",
       "      <th>2</th>\n",
       "      <td>1</td>\n",
       "      <td>0</td>\n",
       "      <td>2</td>\n",
       "      <td>0.11</td>\n",
       "      <td>0.88</td>\n",
       "      <td>7</td>\n",
       "      <td>272</td>\n",
       "      <td>4</td>\n",
       "      <td>0</td>\n",
       "      <td>0</td>\n",
       "      <td>0</td>\n",
       "      <td>0</td>\n",
       "      <td>0</td>\n",
       "      <td>0</td>\n",
       "      <td>0</td>\n",
       "      <td>0</td>\n",
       "      <td>1</td>\n",
       "      <td>0</td>\n",
       "      <td>0</td>\n",
       "    </tr>\n",
       "    <tr>\n",
       "      <th>3</th>\n",
       "      <td>1</td>\n",
       "      <td>0</td>\n",
       "      <td>1</td>\n",
       "      <td>0.72</td>\n",
       "      <td>0.87</td>\n",
       "      <td>5</td>\n",
       "      <td>223</td>\n",
       "      <td>5</td>\n",
       "      <td>0</td>\n",
       "      <td>0</td>\n",
       "      <td>0</td>\n",
       "      <td>0</td>\n",
       "      <td>0</td>\n",
       "      <td>0</td>\n",
       "      <td>0</td>\n",
       "      <td>0</td>\n",
       "      <td>1</td>\n",
       "      <td>0</td>\n",
       "      <td>0</td>\n",
       "    </tr>\n",
       "    <tr>\n",
       "      <th>4</th>\n",
       "      <td>1</td>\n",
       "      <td>0</td>\n",
       "      <td>1</td>\n",
       "      <td>0.37</td>\n",
       "      <td>0.52</td>\n",
       "      <td>2</td>\n",
       "      <td>159</td>\n",
       "      <td>3</td>\n",
       "      <td>0</td>\n",
       "      <td>0</td>\n",
       "      <td>0</td>\n",
       "      <td>0</td>\n",
       "      <td>0</td>\n",
       "      <td>0</td>\n",
       "      <td>0</td>\n",
       "      <td>0</td>\n",
       "      <td>1</td>\n",
       "      <td>0</td>\n",
       "      <td>0</td>\n",
       "    </tr>\n",
       "  </tbody>\n",
       "</table>\n",
       "</div>"
      ],
      "text/plain": [
       "   left  promotion_last_5_years  salary  satisfaction_level  last_evaluation  \\\n",
       "0     1                       0       1                0.38             0.53   \n",
       "1     1                       0       2                0.80             0.86   \n",
       "2     1                       0       2                0.11             0.88   \n",
       "3     1                       0       1                0.72             0.87   \n",
       "4     1                       0       1                0.37             0.52   \n",
       "\n",
       "   number_of_projects  average_monthly_hours  time_spent_with_the_company  \\\n",
       "0                   2                    157                            3   \n",
       "1                   5                    262                            6   \n",
       "2                   7                    272                            4   \n",
       "3                   5                    223                            5   \n",
       "4                   2                    159                            3   \n",
       "\n",
       "   work_accidents  division_IT  division_RandD  division_accounting  \\\n",
       "0               0            0               0                    0   \n",
       "1               0            0               0                    0   \n",
       "2               0            0               0                    0   \n",
       "3               0            0               0                    0   \n",
       "4               0            0               0                    0   \n",
       "\n",
       "   division_hr  division_management  division_marketing  division_product_mng  \\\n",
       "0            0                    0                   0                     0   \n",
       "1            0                    0                   0                     0   \n",
       "2            0                    0                   0                     0   \n",
       "3            0                    0                   0                     0   \n",
       "4            0                    0                   0                     0   \n",
       "\n",
       "   division_sales  division_support  division_technical  \n",
       "0               1                 0                   0  \n",
       "1               1                 0                   0  \n",
       "2               1                 0                   0  \n",
       "3               1                 0                   0  \n",
       "4               1                 0                   0  "
      ]
     },
     "execution_count": 67,
     "metadata": {},
     "output_type": "execute_result"
    }
   ],
   "source": [
    "df_n.head(5)"
   ]
  },
  {
   "cell_type": "code",
   "execution_count": 68,
   "id": "338cfa9a",
   "metadata": {},
   "outputs": [],
   "source": [
    "X_2 = df_n.iloc[:, 1:]\n",
    "y2 = df_n.loc[:, [\"left\"]]\n",
    "y2 = np.ravel(y2)"
   ]
  },
  {
   "cell_type": "code",
   "execution_count": 71,
   "id": "4caaadec",
   "metadata": {},
   "outputs": [],
   "source": [
    "X_train2, X_test2, y_train2, y_test2 = train_test_split(X_2, y2, test_size=0.2, random_state=50)"
   ]
  },
  {
   "cell_type": "code",
   "execution_count": 73,
   "id": "f7b97129",
   "metadata": {},
   "outputs": [],
   "source": [
    "knn = KNeighborsClassifier(n_neighbors=5)\n",
    "knn.fit(X_train2, y_train2)\n",
    "y_pred2 = knn.predict(X_test2)"
   ]
  },
  {
   "cell_type": "code",
   "execution_count": 74,
   "id": "5553f1df",
   "metadata": {
    "scrolled": true
   },
   "outputs": [
    {
     "name": "stdout",
     "output_type": "stream",
     "text": [
      "Accuracy score for df_n:  0.9276666666666666\n",
      "Recall score for df_n:  0.9178082191780822\n",
      "Precision score for df_n:  0.8101571946795647\n",
      "f1 score for df_n:  0.8606294155427102\n"
     ]
    }
   ],
   "source": [
    "print(\"Accuracy score for df_n: \" , metrics.accuracy_score(y_test2, y_pred2))\n",
    "print(\"Recall score for df_n: \",metrics.recall_score(y_test2, y_pred2))\n",
    "print(\"Precision score for df_n: \",metrics.precision_score(y_test2, y_pred2))\n",
    "print(\"f1 score for df_n: \", metrics.f1_score(y_test2, y_pred2))"
   ]
  },
  {
   "cell_type": "code",
   "execution_count": 75,
   "id": "19a83c54",
   "metadata": {},
   "outputs": [
    {
     "data": {
      "text/plain": [
       "0.27566666666666667"
      ]
     },
     "execution_count": 75,
     "metadata": {},
     "output_type": "execute_result"
    }
   ],
   "source": [
    "y_pred2.mean()"
   ]
  },
  {
   "cell_type": "markdown",
   "id": "737bf750",
   "metadata": {},
   "source": [
    "## Cross Validation df_d"
   ]
  },
  {
   "cell_type": "code",
   "execution_count": 76,
   "id": "a72de20d",
   "metadata": {},
   "outputs": [
    {
     "name": "stdout",
     "output_type": "stream",
     "text": [
      "[0.93133333 0.92933333 0.92133333 0.92466667 0.92133333 0.93066667\n",
      " 0.95       0.938      0.95266667 0.94863242]\n"
     ]
    }
   ],
   "source": [
    "knn = KNeighborsClassifier(n_neighbors=5)\n",
    "scores = cross_val_score(knn, X, y, cv=10, scoring='accuracy')\n",
    "\n",
    "print(scores)"
   ]
  },
  {
   "cell_type": "code",
   "execution_count": 77,
   "id": "c0557da8",
   "metadata": {
    "scrolled": true
   },
   "outputs": [
    {
     "name": "stdout",
     "output_type": "stream",
     "text": [
      "0.9347965754947744\n"
     ]
    }
   ],
   "source": [
    "print(scores.mean())"
   ]
  },
  {
   "cell_type": "code",
   "execution_count": 78,
   "id": "d5be9b8c",
   "metadata": {},
   "outputs": [
    {
     "data": {
      "text/plain": [
       "Text(0, 0.5, 'Cross-Validated Accuracy')"
      ]
     },
     "execution_count": 78,
     "metadata": {},
     "output_type": "execute_result"
    },
    {
     "data": {
      "image/png": "[encoded data removed]",
      "text/plain": [
       "<Figure size 432x360 with 1 Axes>"
      ]
     },
     "metadata": {},
     "output_type": "display_data"
    }
   ],
   "source": [
    "k_range = list(range(1,10))\n",
    "k_scores = []\n",
    "\n",
    "for k in k_range:\n",
    "    knn = KNeighborsClassifier(n_neighbors=k)\n",
    "    scores = cross_val_score(knn, X, y, cv=10, scoring = 'accuracy')\n",
    "    k_scores.append(scores.mean())\n",
    "\n",
    "plt.plot(k_range, k_scores)\n",
    "plt.xlabel(\"Value of K for KNN\")\n",
    "plt.ylabel(\"Cross-Validated Accuracy\")"
   ]
  },
  {
   "cell_type": "code",
   "execution_count": 79,
   "id": "780d6faf",
   "metadata": {},
   "outputs": [
    {
     "data": {
      "text/plain": [
       "Text(0, 0.5, 'Cross-Validated Precision')"
      ]
     },
     "execution_count": 79,
     "metadata": {},
     "output_type": "execute_result"
    },
    {
     "data": {
      "image/png": "[encoded data removed]",
      "text/plain": [
       "<Figure size 432x360 with 1 Axes>"
      ]
     },
     "metadata": {},
     "output_type": "display_data"
    }
   ],
   "source": [
    "k_range = list(range(1,20))\n",
    "k_scores = []\n",
    "\n",
    "for k in k_range:\n",
    "    knn = KNeighborsClassifier(n_neighbors=k)\n",
    "    scores = cross_val_score(knn, X, y, cv=10, scoring = 'recall')\n",
    "    k_scores.append(scores.mean())\n",
    "\n",
    "plt.plot(k_range, k_scores)\n",
    "plt.xlabel(\"Value of K for KNN\")\n",
    "plt.ylabel(\"Cross-Validated Precision\")"
   ]
  },
  {
   "cell_type": "code",
   "execution_count": 80,
   "id": "6338a7e6",
   "metadata": {},
   "outputs": [],
   "source": [
    "knn = KNeighborsClassifier(n_neighbors=9)\n",
    "knn.fit(X_train, y_train)\n",
    "y_pred = knn.predict(X_test)\n"
   ]
  },
  {
   "cell_type": "code",
   "execution_count": 81,
   "id": "235b504b",
   "metadata": {},
   "outputs": [
    {
     "name": "stdout",
     "output_type": "stream",
     "text": [
      "Accuracy score for df_d:  0.9333333333333333\n",
      "Recall score for df_d:  0.9232876712328767\n",
      "Precision score for df_d:  0.823960880195599\n",
      "f1 score for df_d:  0.8708010335917312\n"
     ]
    }
   ],
   "source": [
    "\n",
    "print(\"Accuracy score for df_d: \" , metrics.accuracy_score(y_test, y_pred))\n",
    "print(\"Recall score for df_d: \",metrics.recall_score(y_test, y_pred))\n",
    "print(\"Precision score for df_d: \",metrics.precision_score(y_test, y_pred))\n",
    "print(\"f1 score for df_d: \", metrics.f1_score(y_test, y_pred))"
   ]
  },
  {
   "cell_type": "code",
   "execution_count": 82,
   "id": "f2480cc0",
   "metadata": {},
   "outputs": [],
   "source": [
    "## Using 9 neighbors gives an increase in recall, and a slight decrease in precision for df_d"
   ]
  },
  {
   "cell_type": "code",
   "execution_count": 83,
   "id": "3aec7dda",
   "metadata": {},
   "outputs": [
    {
     "name": "stdout",
     "output_type": "stream",
     "text": [
      "Recall: 0.9274681939815033\n",
      "Accuracy: 0.9389965754947742\n",
      "Precision: 0.8351424930917917\n",
      "F1: 0.8787793568875765\n"
     ]
    }
   ],
   "source": [
    "scores = cross_val_score(knn, X, y, cv=10, scoring = 'recall')\n",
    "print(\"Recall:\", scores.mean())\n",
    "\n",
    "scores = cross_val_score(knn, X, y, cv=10, scoring = 'accuracy')\n",
    "print(\"Accuracy:\", scores.mean())\n",
    "\n",
    "scores = cross_val_score(knn, X, y, cv=10, scoring = 'precision')\n",
    "print(\"Precision:\", scores.mean())\n",
    "\n",
    "scores = cross_val_score(knn, X, y, cv=10, scoring = 'f1')\n",
    "print(\"F1:\", scores.mean())\n"
   ]
  },
  {
   "cell_type": "markdown",
   "id": "caf9aeb5",
   "metadata": {},
   "source": [
    "## df_n cross val"
   ]
  },
  {
   "cell_type": "code",
   "execution_count": 84,
   "id": "79f99e14",
   "metadata": {},
   "outputs": [
    {
     "name": "stdout",
     "output_type": "stream",
     "text": [
      "[0.93466667 0.93       0.93266667 0.92266667 0.926      0.92666667\n",
      " 0.952      0.936      0.95333333 0.95063376]\n",
      "0.9364633755837225\n"
     ]
    }
   ],
   "source": [
    "## df_n has a higher accuracy, precision, and k1 level than df_d \n",
    "\n",
    "knn = KNeighborsClassifier(n_neighbors=5)\n",
    "scores = cross_val_score(knn, X_2, y2, cv=10, scoring='accuracy')\n",
    "\n",
    "print(scores)\n",
    "print(scores.mean())"
   ]
  },
  {
   "cell_type": "code",
   "execution_count": 85,
   "id": "2f0b18e1",
   "metadata": {},
   "outputs": [
    {
     "data": {
      "text/plain": [
       "Text(0, 0.5, 'Cross-Validated Precision')"
      ]
     },
     "execution_count": 85,
     "metadata": {},
     "output_type": "execute_result"
    },
    {
     "data": {
      "image/png": "[encoded data removed]",
      "text/plain": [
       "<Figure size 432x360 with 1 Axes>"
      ]
     },
     "metadata": {},
     "output_type": "display_data"
    }
   ],
   "source": [
    "k_range = list(range(1,20))\n",
    "k_scores = []\n",
    "\n",
    "for k in k_range:\n",
    "    knn = KNeighborsClassifier(n_neighbors=k)\n",
    "    scores = cross_val_score(knn, X, y, cv=10, scoring = 'recall')\n",
    "    k_scores.append(scores.mean())\n",
    "\n",
    "plt.plot(k_range, k_scores)\n",
    "plt.xlabel(\"Value of K for KNN\")\n",
    "plt.ylabel(\"Cross-Validated Precision\")"
   ]
  },
  {
   "cell_type": "code",
   "execution_count": 86,
   "id": "9adf7633",
   "metadata": {},
   "outputs": [],
   "source": [
    "knn = KNeighborsClassifier(n_neighbors=9)\n",
    "knn.fit(X_train2, y_train2)\n",
    "y_pred2 = knn.predict(X_test2)"
   ]
  },
  {
   "cell_type": "code",
   "execution_count": 87,
   "id": "d8a41a2e",
   "metadata": {
    "scrolled": true
   },
   "outputs": [
    {
     "name": "stdout",
     "output_type": "stream",
     "text": [
      "Accuracy score for df_n:  0.9306666666666666\n",
      "Recall score for df_n:  0.9205479452054794\n",
      "Precision score for df_n:  0.8175182481751825\n",
      "f1 score for df_n:  0.8659793814432989\n"
     ]
    }
   ],
   "source": [
    "print(\"Accuracy score for df_n: \" , metrics.accuracy_score(y_test2, y_pred2))\n",
    "print(\"Recall score for df_n: \",metrics.recall_score(y_test2, y_pred2))\n",
    "print(\"Precision score for df_n: \",metrics.precision_score(y_test2, y_pred2))\n",
    "print(\"f1 score for df_n: \", metrics.f1_score(y_test2, y_pred2))"
   ]
  },
  {
   "cell_type": "code",
   "execution_count": 88,
   "id": "ba88a05c",
   "metadata": {},
   "outputs": [],
   "source": [
    "## df_d seems to be outperforming df_n, I will move forward with using this df"
   ]
  },
  {
   "cell_type": "markdown",
   "id": "843bf537",
   "metadata": {},
   "source": [
    "## Grid Search "
   ]
  },
  {
   "cell_type": "code",
   "execution_count": 89,
   "id": "6ebbfd13",
   "metadata": {},
   "outputs": [
    {
     "name": "stdout",
     "output_type": "stream",
     "text": [
      "Best params:  {'n_neighbors': 1}\n",
      "Best estimator:  KNeighborsClassifier(n_neighbors=1)\n",
      "Best score:  0.9540616246498599\n"
     ]
    }
   ],
   "source": [
    "## k_range = list(range(1, 25))\n",
    "param_grid = dict(n_neighbors=k_range)\n",
    "grid = GridSearchCV(knn, param_grid, cv=10, scoring='recall')\n",
    "grid.fit(X, y);\n",
    "\n",
    "## Grid search confirms 9 neighbors works well for recall \n",
    "\n",
    "df_cv = pd.DataFrame(grid.cv_results_)\n",
    "df_cv.head(30)\n",
    "\n",
    "print(\"Best params: \", grid.best_params_)\n",
    "print(\"Best estimator: \", grid.best_estimator_)\n",
    "print(\"Best score: \", grid.best_score_)"
   ]
  },
  {
   "cell_type": "code",
   "execution_count": 90,
   "id": "f6a08183",
   "metadata": {},
   "outputs": [
    {
     "name": "stdout",
     "output_type": "stream",
     "text": [
      "0.9333333333333333\n",
      "0.9232876712328767\n",
      "0.8708010335917312\n",
      "0.9232876712328767\n"
     ]
    }
   ],
   "source": [
    "print(metrics.accuracy_score(y_test, y_pred))\n",
    "print(metrics.recall_score(y_test, y_pred))\n",
    "print(metrics.f1_score(y_test, y_pred))\n",
    "print(metrics.recall_score(y_test, y_pred))\n"
   ]
  },
  {
   "cell_type": "code",
   "execution_count": 91,
   "id": "44633a6d",
   "metadata": {},
   "outputs": [
    {
     "data": {
      "text/plain": [
       "<matplotlib.collections.PathCollection at 0x7fe4db1b7460>"
      ]
     },
     "execution_count": 91,
     "metadata": {},
     "output_type": "execute_result"
    },
    {
     "data": {
      "image/png": "[encoded data removed]",
      "text/plain": [
       "<Figure size 1440x360 with 1 Axes>"
      ]
     },
     "metadata": {},
     "output_type": "display_data"
    }
   ],
   "source": [
    "fig = plt.figure(figsize=(20,5))\n",
    "ax = fig.add_subplot(111)\n",
    "ax.scatter(X_train.satisfaction_level, y_train)"
   ]
  },
  {
   "cell_type": "code",
   "execution_count": 92,
   "id": "98cdce62",
   "metadata": {},
   "outputs": [
    {
     "data": {
      "text/plain": [
       "count    11999.000000\n",
       "mean         0.615177\n",
       "std          0.248203\n",
       "min          0.090000\n",
       "25%          0.440000\n",
       "50%          0.650000\n",
       "75%          0.820000\n",
       "max          1.000000\n",
       "Name: satisfaction_level, dtype: float64"
      ]
     },
     "execution_count": 92,
     "metadata": {},
     "output_type": "execute_result"
    }
   ],
   "source": [
    "X_train.satisfaction_level.describe()"
   ]
  },
  {
   "cell_type": "markdown",
   "id": "957b137e",
   "metadata": {},
   "source": [
    "## Confusion Matrix for KNN"
   ]
  },
  {
   "cell_type": "code",
   "execution_count": 93,
   "id": "03863f5c",
   "metadata": {},
   "outputs": [],
   "source": [
    "knn = KNeighborsClassifier(n_neighbors=9)\n",
    "knn.fit(X_train, y_train)\n",
    "y_pred2 = knn.predict(X_train)"
   ]
  },
  {
   "cell_type": "code",
   "execution_count": 94,
   "id": "c5356441",
   "metadata": {},
   "outputs": [
    {
     "name": "stdout",
     "output_type": "stream",
     "text": [
      "kNN confusion matrix: \n",
      "\n",
      " [[2126  144]\n",
      " [  56  674]]\n"
     ]
    }
   ],
   "source": [
    "print(\"kNN confusion matrix: \\n\\n\", confusion_matrix(y_test, knn.predict(X_test)))\n"
   ]
  },
  {
   "cell_type": "code",
   "execution_count": 95,
   "id": "c6f019d2",
   "metadata": {},
   "outputs": [],
   "source": [
    "knn_confusion = confusion_matrix(y_test, knn.predict(X_test))"
   ]
  },
  {
   "cell_type": "code",
   "execution_count": 96,
   "id": "af255486",
   "metadata": {},
   "outputs": [
    {
     "data": {
      "image/png": "[encoded data removed]",
      "text/plain": [
       "<Figure size 900x750 with 2 Axes>"
      ]
     },
     "metadata": {},
     "output_type": "display_data"
    }
   ],
   "source": [
    "plt.figure(dpi=150)\n",
    "sns.heatmap(knn_confusion, cmap=plt.cm.Blues, annot=True, square=True)\n",
    "plt.xlabel('prediction')\n",
    "plt.ylabel('actual');\n"
   ]
  },
  {
   "cell_type": "code",
   "execution_count": 97,
   "id": "639b34f8",
   "metadata": {
    "scrolled": true
   },
   "outputs": [],
   "source": [
    "## sns.pairplot(df.sample(100), hue=\"left\")"
   ]
  },
  {
   "cell_type": "markdown",
   "id": "79517070",
   "metadata": {},
   "source": [
    "## Logistic Regression"
   ]
  },
  {
   "cell_type": "code",
   "execution_count": 98,
   "id": "92e74df5",
   "metadata": {},
   "outputs": [
    {
     "data": {
      "text/plain": [
       "LogisticRegression(C=1)"
      ]
     },
     "execution_count": 98,
     "metadata": {},
     "output_type": "execute_result"
    }
   ],
   "source": [
    "lm1 = LogisticRegression(C=1) \n",
    "lm1.fit(X_train[['satisfaction_level']], y_train)"
   ]
  },
  {
   "cell_type": "code",
   "execution_count": 99,
   "id": "47dcc281",
   "metadata": {},
   "outputs": [
    {
     "data": {
      "text/plain": [
       "0.7718143178598217"
      ]
     },
     "execution_count": 99,
     "metadata": {},
     "output_type": "execute_result"
    }
   ],
   "source": [
    "lm1.score(X_train[['satisfaction_level']], y_train)\n"
   ]
  },
  {
   "cell_type": "code",
   "execution_count": 100,
   "id": "dad2ca20",
   "metadata": {},
   "outputs": [],
   "source": [
    "lr = LogisticRegression(C=.95) \n"
   ]
  },
  {
   "cell_type": "code",
   "execution_count": 101,
   "id": "a834fb46",
   "metadata": {},
   "outputs": [],
   "source": [
    "std_scale = StandardScaler()"
   ]
  },
  {
   "cell_type": "code",
   "execution_count": 102,
   "id": "2b745688",
   "metadata": {},
   "outputs": [],
   "source": [
    "X_train_scaled =  std_scale.fit_transform(X_train)\n",
    "X_test_scaled = std_scale.fit_transform(X_test)"
   ]
  },
  {
   "cell_type": "code",
   "execution_count": 103,
   "id": "c841ea38",
   "metadata": {},
   "outputs": [
    {
     "data": {
      "text/plain": [
       "LogisticRegression(C=0.95)"
      ]
     },
     "execution_count": 103,
     "metadata": {},
     "output_type": "execute_result"
    }
   ],
   "source": [
    "lr.fit(X_train_scaled, y_train)"
   ]
  },
  {
   "cell_type": "code",
   "execution_count": 104,
   "id": "c6aa99be",
   "metadata": {},
   "outputs": [],
   "source": [
    "y_predict = lr.predict(X_train_scaled)"
   ]
  },
  {
   "cell_type": "code",
   "execution_count": 105,
   "id": "283c9f4f",
   "metadata": {},
   "outputs": [
    {
     "data": {
      "text/plain": [
       "0.7884823735311276"
      ]
     },
     "execution_count": 105,
     "metadata": {},
     "output_type": "execute_result"
    }
   ],
   "source": [
    "lr.score(X_train_scaled, y_train)"
   ]
  },
  {
   "cell_type": "code",
   "execution_count": 106,
   "id": "c40d3d44",
   "metadata": {},
   "outputs": [
    {
     "name": "stdout",
     "output_type": "stream",
     "text": [
      "The accuracy score for logistic regression is\n",
      "Training:  78.85%\n",
      "Test set:  77.67%\n"
     ]
    }
   ],
   "source": [
    "lr.fit(X_train_scaled, y_train)\n",
    "print(\"The accuracy score for logistic regression is\")\n",
    "print(\"Training: {:6.2f}%\".format(100*lr.score(X_train_scaled, y_train)))\n",
    "print(\"Test set: {:6.2f}%\".format(100*lr.score(X_test_scaled, y_test)))"
   ]
  },
  {
   "cell_type": "code",
   "execution_count": 107,
   "id": "81fdce55",
   "metadata": {
    "collapsed": true
   },
   "outputs": [
    {
     "data": {
      "text/plain": [
       "array([[0.85629451, 0.14370549],\n",
       "       [0.80458072, 0.19541928],\n",
       "       [0.92661408, 0.07338592],\n",
       "       [0.98483828, 0.01516172],\n",
       "       [0.88889867, 0.11110133],\n",
       "       [0.62842667, 0.37157333],\n",
       "       [0.53960298, 0.46039702],\n",
       "       [0.93012142, 0.06987858],\n",
       "       [0.33207785, 0.66792215],\n",
       "       [0.90332561, 0.09667439],\n",
       "       [0.92591097, 0.07408903],\n",
       "       [0.92984059, 0.07015941],\n",
       "       [0.23824558, 0.76175442],\n",
       "       [0.55816646, 0.44183354],\n",
       "       [0.58867965, 0.41132035],\n",
       "       [0.38302407, 0.61697593],\n",
       "       [0.96504172, 0.03495828],\n",
       "       [0.85987059, 0.14012941],\n",
       "       [0.80000772, 0.19999228],\n",
       "       [0.63074141, 0.36925859],\n",
       "       [0.95787327, 0.04212673],\n",
       "       [0.9950458 , 0.0049542 ],\n",
       "       [0.57363312, 0.42636688],\n",
       "       [0.87415786, 0.12584214],\n",
       "       [0.33349358, 0.66650642],\n",
       "       [0.98352637, 0.01647363],\n",
       "       [0.87653097, 0.12346903],\n",
       "       [0.82775458, 0.17224542],\n",
       "       [0.75859261, 0.24140739],\n",
       "       [0.32930668, 0.67069332]])"
      ]
     },
     "execution_count": 107,
     "metadata": {},
     "output_type": "execute_result"
    }
   ],
   "source": [
    "# Prediction for probability of target being 0 or 1 \n",
    "\n",
    "lr.predict_proba(X_test_scaled)[:30,]"
   ]
  },
  {
   "cell_type": "code",
   "execution_count": 108,
   "id": "a7774027",
   "metadata": {
    "scrolled": true
   },
   "outputs": [
    {
     "data": {
      "text/plain": [
       "Text(64.375, 0.5, 'actual')"
      ]
     },
     "execution_count": 108,
     "metadata": {},
     "output_type": "execute_result"
    },
    {
     "data": {
      "image/png": "[encoded data removed]",
      "text/plain": [
       "<Figure size 900x750 with 2 Axes>"
      ]
     },
     "metadata": {},
     "output_type": "display_data"
    }
   ],
   "source": [
    "logit_confusion = confusion_matrix(y_test, lr.predict(X_test_scaled))\n",
    "plt.figure(dpi=150)\n",
    "sns.heatmap(logit_confusion, cmap=plt.cm.Blues, annot=True, square=True)\n",
    "plt.xlabel('prediction')\n",
    "plt.ylabel('actual')\n"
   ]
  },
  {
   "cell_type": "code",
   "execution_count": 109,
   "id": "3fca6292",
   "metadata": {},
   "outputs": [
    {
     "name": "stdout",
     "output_type": "stream",
     "text": [
      "Default threshold:\n",
      "Precision: 0.5761,   Recall: 0.3110,   f1: 0.4039,  accuracy: 0.7767\n"
     ]
    }
   ],
   "source": [
    "y_predict = lr.predict(X_test_scaled)\n",
    "print(\"Default threshold:\")\n",
    "print(\"Precision: {:6.4f},   Recall: {:6.4f},   f1: {:6.4f},  accuracy: {:6.4f}\".format(precision_score(y_test,\n",
    "                                                    y_predict),recall_score(y_test, y_predict),\n",
    "                                                    f1_score(y_test, y_predict), accuracy_score(y_test, y_predict)))\n"
   ]
  },
  {
   "cell_type": "code",
   "execution_count": 110,
   "id": "d91ccc09",
   "metadata": {},
   "outputs": [
    {
     "name": "stdout",
     "output_type": "stream",
     "text": [
      ".06 threshold:\n",
      "Precision: 0.3026,   Recall: 0.9849,   f1: 0.4630,  accuracy: 0.4440\n"
     ]
    }
   ],
   "source": [
    "y_predict = (lr.predict_proba(X_test_scaled)[:,1] > 0.06)\n",
    "print(\".06 threshold:\")\n",
    "print(\"Precision: {:6.4f},   Recall: {:6.4f},   f1: {:6.4f},  accuracy: {:6.4f}\".format(precision_score(y_test,\n",
    "                                                    y_predict),recall_score(y_test, y_predict),\n",
    "                                                    f1_score(y_test, y_predict), accuracy_score(y_test, y_predict)))\n",
    "\n"
   ]
  },
  {
   "cell_type": "code",
   "execution_count": 111,
   "id": "cf3b7493",
   "metadata": {},
   "outputs": [
    {
     "name": "stdout",
     "output_type": "stream",
     "text": [
      ".06 threshold:\n",
      "Precision: 0.3536,   Recall: 0.9658,   f1: 0.5176,  accuracy: 0.5620\n"
     ]
    }
   ],
   "source": [
    "y_predict = (lr.predict_proba(X_test_scaled)[:,1] > 0.1)\n",
    "print(\".06 threshold:\")\n",
    "print(\"Precision: {:6.4f},   Recall: {:6.4f},   f1: {:6.4f},  accuracy: {:6.4f}\".format(precision_score(y_test,\n",
    "                                                    y_predict),recall_score(y_test, y_predict),\n",
    "                                                    f1_score(y_test, y_predict), accuracy_score(y_test, y_predict)))\n",
    "\n"
   ]
  },
  {
   "cell_type": "code",
   "execution_count": 112,
   "id": "681e4410",
   "metadata": {},
   "outputs": [
    {
     "name": "stdout",
     "output_type": "stream",
     "text": [
      ".06 threshold:\n",
      "Precision: 0.4568,   Recall: 0.8260,   f1: 0.5883,  accuracy: 0.7187\n"
     ]
    }
   ],
   "source": [
    "y_predict = (lr.predict_proba(X_test_scaled)[:,1] > 0.2)\n",
    "print(\".06 threshold:\")\n",
    "print(\"Precision: {:6.4f},   Recall: {:6.4f},   f1: {:6.4f},  accuracy: {:6.4f}\".format(precision_score(y_test,\n",
    "                                                    y_predict),recall_score(y_test, y_predict),\n",
    "                                                    f1_score(y_test, y_predict), accuracy_score(y_test, y_predict)))\n",
    "\n"
   ]
  },
  {
   "cell_type": "code",
   "execution_count": 113,
   "id": "0aab4e63",
   "metadata": {},
   "outputs": [
    {
     "data": {
      "text/plain": [
       "(array([[-0.20326418, -1.01218029,  0.13615246, -0.37694884,  0.22923133,\n",
       "          0.40027642, -0.52345103, -0.0123821 , -0.1119835 , -0.00775935,\n",
       "          0.0697468 , -0.08665237, -0.00182524, -0.00667515, -0.00728674,\n",
       "          0.04021683,  0.05932206, -0.42350361,  0.25624158, -0.02406612]]),\n",
       " array([-1.60602028]))"
      ]
     },
     "execution_count": 113,
     "metadata": {},
     "output_type": "execute_result"
    }
   ],
   "source": [
    "lr.coef_, lr.intercept_\n"
   ]
  },
  {
   "cell_type": "code",
   "execution_count": 115,
   "id": "eaa8c776",
   "metadata": {},
   "outputs": [
    {
     "data": {
      "image/png": "[encoded data removed]",
      "text/plain": [
       "<Figure size 480x400 with 1 Axes>"
      ]
     },
     "metadata": {},
     "output_type": "display_data"
    }
   ],
   "source": [
    "precision_curve, recall_curve, threshold_curve = precision_recall_curve(y_test, lr.predict_proba(X_test_scaled)[:,1] )\n",
    "\n",
    "plt.figure(dpi=80)\n",
    "plt.plot(threshold_curve, precision_curve[1:],label='precision')\n",
    "plt.plot(threshold_curve, recall_curve[1:], label='recall')\n",
    "plt.legend(loc='lower left')\n",
    "plt.xlabel('Threshold (above this probability)');\n",
    "plt.title('Precision and Recall Curves');\n"
   ]
  },
  {
   "cell_type": "code",
   "execution_count": 116,
   "id": "f98c6e78",
   "metadata": {},
   "outputs": [],
   "source": [
    "# Adjusting C levels \n",
    "lr = LogisticRegression(C=20) \n"
   ]
  },
  {
   "cell_type": "code",
   "execution_count": 117,
   "id": "41fefd9c",
   "metadata": {},
   "outputs": [
    {
     "name": "stdout",
     "output_type": "stream",
     "text": [
      "Default threshold:\n",
      "Precision: 0.5747,   Recall: 0.3110,   f1: 0.4036,  accuracy: 0.7763\n"
     ]
    }
   ],
   "source": [
    "lr.fit(X_train_scaled, y_train)\n",
    "y_predict = lr.predict(X_test_scaled)\n",
    "print(\"Default threshold:\")\n",
    "print(\"Precision: {:6.4f},   Recall: {:6.4f},   f1: {:6.4f},  accuracy: {:6.4f}\".format(precision_score(y_test,\n",
    "                                                    y_predict),recall_score(y_test, y_predict),\n",
    "                                                    f1_score(y_test, y_predict), accuracy_score(y_test, y_predict)))\n"
   ]
  },
  {
   "cell_type": "code",
   "execution_count": 118,
   "id": "31222817",
   "metadata": {},
   "outputs": [],
   "source": [
    "lr = LogisticRegression(C=.001) \n"
   ]
  },
  {
   "cell_type": "code",
   "execution_count": 119,
   "id": "3654d26f",
   "metadata": {},
   "outputs": [
    {
     "name": "stdout",
     "output_type": "stream",
     "text": [
      "Default threshold:\n",
      "Precision: 0.6482,   Recall: 0.1767,   f1: 0.2777,  accuracy: 0.7763\n"
     ]
    }
   ],
   "source": [
    "lr.fit(X_train_scaled, y_train)\n",
    "y_predict = lr.predict(X_test_scaled)\n",
    "print(\"Default threshold:\")\n",
    "print(\"Precision: {:6.4f},   Recall: {:6.4f},   f1: {:6.4f},  accuracy: {:6.4f}\".format(precision_score(y_test,\n",
    "                                                    y_predict),recall_score(y_test, y_predict),\n",
    "                                                    f1_score(y_test, y_predict), accuracy_score(y_test, y_predict)))\n"
   ]
  },
  {
   "cell_type": "code",
   "execution_count": 120,
   "id": "a5bc314a",
   "metadata": {},
   "outputs": [
    {
     "data": {
      "text/plain": [
       "LogisticRegression(C=0.95)"
      ]
     },
     "execution_count": 120,
     "metadata": {},
     "output_type": "execute_result"
    }
   ],
   "source": [
    "lr = LogisticRegression(C=.95) \n",
    "lr.fit(X_train_scaled, y_train)\n"
   ]
  },
  {
   "cell_type": "markdown",
   "id": "9e5da9f0",
   "metadata": {},
   "source": [
    "## ROC"
   ]
  },
  {
   "cell_type": "code",
   "execution_count": 121,
   "id": "8a9a356c",
   "metadata": {},
   "outputs": [],
   "source": [
    "fpr, tpr, thresholds = roc_curve(y_test, lr.predict_proba(X_test_scaled)[:,1])"
   ]
  },
  {
   "cell_type": "code",
   "execution_count": 122,
   "id": "61a3f145",
   "metadata": {
    "scrolled": true
   },
   "outputs": [
    {
     "name": "stdout",
     "output_type": "stream",
     "text": [
      "ROC AUC score =  0.8248723673888119\n"
     ]
    },
    {
     "data": {
      "image/png": "[encoded data removed]",
      "text/plain": [
       "<Figure size 432x360 with 1 Axes>"
      ]
     },
     "metadata": {},
     "output_type": "display_data"
    }
   ],
   "source": [
    "plt.plot(fpr, tpr,lw=2)\n",
    "plt.plot([0,1],[0,1],c='violet',ls='--')\n",
    "plt.xlim([-0.05,1.05])\n",
    "plt.ylim([-0.05,1.05])\n",
    "\n",
    "\n",
    "plt.xlabel('False positive rate')\n",
    "plt.ylabel('True positive rate')\n",
    "plt.title('ROC curve for Attrition');\n",
    "print(\"ROC AUC score = \", roc_auc_score(y_test, lr.predict_proba(X_test_scaled)[:,1]))"
   ]
  },
  {
   "cell_type": "code",
   "execution_count": 123,
   "id": "0ae96a05",
   "metadata": {},
   "outputs": [
    {
     "name": "stdout",
     "output_type": "stream",
     "text": [
      "Log-loss on logit: 0.4311\n"
     ]
    }
   ],
   "source": [
    "print(\"Log-loss on logit: {:6.4f}\".format(log_loss(y_test, lr.predict_proba(X_test_scaled))))"
   ]
  },
  {
   "cell_type": "code",
   "execution_count": 124,
   "id": "439b6c27",
   "metadata": {},
   "outputs": [
    {
     "name": "stdout",
     "output_type": "stream",
     "text": [
      "Log-loss on dummy classifier: 0.5550\n"
     ]
    }
   ],
   "source": [
    "dc = DummyClassifier()\n",
    "dc.fit(X_train, y_train)\n",
    "print(\"Log-loss on dummy classifier: {:6.4f}\".format(log_loss(y_test, dc.predict_proba(X_test_scaled))))"
   ]
  },
  {
   "cell_type": "code",
   "execution_count": 125,
   "id": "d028e0a7",
   "metadata": {},
   "outputs": [
    {
     "name": "stdout",
     "output_type": "stream",
     "text": [
      "Logistic accuracy: 0.7767\n",
      "Dummy accuracy: 0.7567\n"
     ]
    }
   ],
   "source": [
    "print(\"Logistic accuracy: {:6.4f}\".format(lr.score(X_test_scaled, y_test)))\n",
    "print(\"Dummy accuracy: {:6.4f}\".format(dc.score(X_test, y_test)))"
   ]
  },
  {
   "cell_type": "markdown",
   "id": "12129a58",
   "metadata": {},
   "source": [
    "## Decision Tree"
   ]
  },
  {
   "cell_type": "code",
   "execution_count": 126,
   "id": "16870120",
   "metadata": {},
   "outputs": [],
   "source": [
    "decisiontree = DecisionTreeClassifier(max_depth=4)"
   ]
  },
  {
   "cell_type": "code",
   "execution_count": 127,
   "id": "db928c4a",
   "metadata": {},
   "outputs": [],
   "source": [
    "def quick_test(model, X, y):\n",
    "    xtrain, xtest, ytrain, ytest = train_test_split(X, y, test_size=0.3)\n",
    "    model.fit(xtrain, ytrain)\n",
    "    return model.score(xtest, ytest)"
   ]
  },
  {
   "cell_type": "code",
   "execution_count": 128,
   "id": "20d99074",
   "metadata": {},
   "outputs": [],
   "source": [
    "def quick_test_afew_times(model, X, y, n=10):\n",
    "    return np.mean([quick_test(model, X, y) for j in range(n)])\n"
   ]
  },
  {
   "cell_type": "code",
   "execution_count": 129,
   "id": "896ff40c",
   "metadata": {},
   "outputs": [
    {
     "data": {
      "text/plain": [
       "0.9684222222222221"
      ]
     },
     "execution_count": 129,
     "metadata": {},
     "output_type": "execute_result"
    }
   ],
   "source": [
    "quick_test_afew_times(decisiontree, X, y)"
   ]
  },
  {
   "cell_type": "code",
   "execution_count": 130,
   "id": "d6cb66bb",
   "metadata": {},
   "outputs": [],
   "source": [
    "decisiontree = DecisionTreeClassifier(max_depth=20)"
   ]
  },
  {
   "cell_type": "code",
   "execution_count": 131,
   "id": "e80b70f8",
   "metadata": {},
   "outputs": [
    {
     "name": "stdout",
     "output_type": "stream",
     "text": [
      "Accuracy for quick test a few times 0.9778666666666667\n"
     ]
    }
   ],
   "source": [
    "print(\"Accuracy for quick test a few times\", quick_test_afew_times(decisiontree, X, y))"
   ]
  },
  {
   "cell_type": "code",
   "execution_count": 132,
   "id": "6f554966",
   "metadata": {},
   "outputs": [],
   "source": [
    "decisiontree = DecisionTreeClassifier(max_depth=20)"
   ]
  },
  {
   "cell_type": "code",
   "execution_count": 133,
   "id": "d1ed363b",
   "metadata": {},
   "outputs": [
    {
     "data": {
      "text/plain": [
       "Text(0, 0.5, 'Cross-Validated Recall')"
      ]
     },
     "execution_count": 133,
     "metadata": {},
     "output_type": "execute_result"
    },
    {
     "data": {
      "image/png": "[encoded data removed]",
      "text/plain": [
       "<Figure size 432x360 with 1 Axes>"
      ]
     },
     "metadata": {},
     "output_type": "display_data"
    }
   ],
   "source": [
    "d_range = list(range(1,30))\n",
    "d_scores = []\n",
    "\n",
    "for d in d_range:\n",
    "    decisiontree = DecisionTreeClassifier(max_depth=d)\n",
    "    score_d = cross_val_score(decisiontree, X, y, cv=10, scoring = 'recall')\n",
    "    d_scores.append(score_d.mean())\n",
    " \n",
    "\n",
    "plt.plot(d_range, d_scores)\n",
    "plt.xlabel(\"Depth Value\")\n",
    "plt.ylabel(\"Cross-Validated Recall\")"
   ]
  },
  {
   "cell_type": "code",
   "execution_count": 134,
   "id": "9ad368c3",
   "metadata": {},
   "outputs": [],
   "source": [
    "decisiontree = DecisionTreeClassifier(max_depth=10)"
   ]
  },
  {
   "cell_type": "code",
   "execution_count": 135,
   "id": "6cf5fc01",
   "metadata": {},
   "outputs": [
    {
     "data": {
      "text/plain": [
       "DecisionTreeClassifier(max_depth=10)"
      ]
     },
     "execution_count": 135,
     "metadata": {},
     "output_type": "execute_result"
    }
   ],
   "source": [
    "decisiontree.fit(X_train, y_train)\n"
   ]
  },
  {
   "cell_type": "code",
   "execution_count": 136,
   "id": "c9df449b",
   "metadata": {},
   "outputs": [
    {
     "name": "stdout",
     "output_type": "stream",
     "text": [
      "recall: 0.942307090433939\n"
     ]
    }
   ],
   "source": [
    "scores = cross_val_score(decisiontree, X, y, cv=10, scoring = 'recall')\n",
    "print(\"recall:\", scores.mean())"
   ]
  },
  {
   "cell_type": "code",
   "execution_count": 137,
   "id": "e5bbb71e",
   "metadata": {},
   "outputs": [
    {
     "name": "stdout",
     "output_type": "stream",
     "text": [
      "accuracy: 0.9805991105181231\n"
     ]
    }
   ],
   "source": [
    "scores = cross_val_score(decisiontree, X, y, cv=10, scoring = 'accuracy')\n",
    "print(\"accuracy:\", scores.mean())"
   ]
  },
  {
   "cell_type": "code",
   "execution_count": 138,
   "id": "5dcab4ec",
   "metadata": {},
   "outputs": [
    {
     "data": {
      "text/plain": [
       "DecisionTreeClassifier(max_depth=20)"
      ]
     },
     "execution_count": 138,
     "metadata": {},
     "output_type": "execute_result"
    }
   ],
   "source": [
    "decisiontree = DecisionTreeClassifier(max_depth=20)\n",
    "decisiontree.fit(X_train, y_train)\n"
   ]
  },
  {
   "cell_type": "code",
   "execution_count": 139,
   "id": "8a9b6a0b",
   "metadata": {},
   "outputs": [
    {
     "name": "stdout",
     "output_type": "stream",
     "text": [
      "recall: 0.9719887955182074\n",
      "accuracy: 0.9831999555259061\n",
      "precision: 0.9579082604877985\n",
      "F1: 0.9646304275175105\n"
     ]
    }
   ],
   "source": [
    "scores = cross_val_score(decisiontree, X, y, cv=10, scoring = 'recall')\n",
    "print(\"recall:\", scores.mean())\n",
    "\n",
    "scores = cross_val_score(decisiontree, X, y, cv=10, scoring = 'accuracy')\n",
    "print(\"accuracy:\", scores.mean())\n",
    "\n",
    "scores = cross_val_score(decisiontree, X, y, cv=10, scoring = 'precision')\n",
    "print(\"precision:\", scores.mean())\n",
    "\n",
    "scores = cross_val_score(decisiontree, X, y, cv=10, scoring = 'f1')\n",
    "print(\"F1:\", scores.mean())\n"
   ]
  },
  {
   "cell_type": "code",
   "execution_count": 140,
   "id": "2d390af0",
   "metadata": {},
   "outputs": [],
   "source": [
    "y_pred = decisiontree.predict(X_test)"
   ]
  },
  {
   "cell_type": "code",
   "execution_count": 141,
   "id": "f8346fa5",
   "metadata": {},
   "outputs": [
    {
     "name": "stdout",
     "output_type": "stream",
     "text": [
      "Accuracy score for Random Forest:  0.9763333333333334\n",
      "Recall score for Random Forest:  0.9684931506849315\n",
      "Precision score for Random Forest:  0.9364238410596026\n",
      "f1 score for Random Forest:  0.9521885521885521\n"
     ]
    }
   ],
   "source": [
    "print(\"Accuracy score for Random Forest: \" , metrics.accuracy_score(y_test, y_pred))\n",
    "print(\"Recall score for Random Forest: \",metrics.recall_score(y_test, y_pred))\n",
    "print(\"Precision score for Random Forest: \",metrics.precision_score(y_test, y_pred))\n",
    "print(\"f1 score for Random Forest: \", metrics.f1_score(y_test, y_pred))"
   ]
  },
  {
   "cell_type": "markdown",
   "id": "56a66fb1",
   "metadata": {},
   "source": [
    "## Random Forest"
   ]
  },
  {
   "cell_type": "code",
   "execution_count": 142,
   "id": "710c660b",
   "metadata": {},
   "outputs": [
    {
     "data": {
      "text/plain": [
       "RandomForestClassifier()"
      ]
     },
     "execution_count": 142,
     "metadata": {},
     "output_type": "execute_result"
    }
   ],
   "source": [
    "randomforest = RandomForestClassifier(n_estimators=100)\n",
    "randomforest.fit(X_train, y_train)"
   ]
  },
  {
   "cell_type": "code",
   "execution_count": 143,
   "id": "857be087",
   "metadata": {},
   "outputs": [
    {
     "name": "stdout",
     "output_type": "stream",
     "text": [
      "recall: 0.9722689075630253\n",
      "accuracy: 0.9920666666666668\n",
      "precision: 0.9927493552503615\n"
     ]
    }
   ],
   "source": [
    "scores = cross_val_score(randomforest, X, y, cv=10, scoring = 'recall')\n",
    "print(\"recall:\", scores.mean())\n",
    "\n",
    "scores = cross_val_score(randomforest, X, y, cv=10, scoring = 'accuracy')\n",
    "print(\"accuracy:\", scores.mean())\n",
    "\n",
    "scores = cross_val_score(randomforest, X, y, cv=10, scoring = 'precision')\n",
    "print(\"precision:\", scores.mean())\n"
   ]
  },
  {
   "cell_type": "code",
   "execution_count": 144,
   "id": "4336591d",
   "metadata": {},
   "outputs": [],
   "source": [
    "y_pred = randomforest.predict(X_test)"
   ]
  },
  {
   "cell_type": "code",
   "execution_count": 145,
   "id": "6eb1bc93",
   "metadata": {},
   "outputs": [
    {
     "name": "stdout",
     "output_type": "stream",
     "text": [
      "Accuracy score for Random Forest:  0.9893333333333333\n",
      "Recall score for Random Forest:  0.9698630136986301\n",
      "Precision score for Random Forest:  0.9860724233983287\n",
      "f1 score for Random Forest:  0.9779005524861878\n"
     ]
    }
   ],
   "source": [
    "print(\"Accuracy score for Random Forest: \" , metrics.accuracy_score(y_test, y_pred))\n",
    "print(\"Recall score for Random Forest: \",metrics.recall_score(y_test, y_pred))\n",
    "print(\"Precision score for Random Forest: \",metrics.precision_score(y_test, y_pred))\n",
    "print(\"f1 score for Random Forest: \", metrics.f1_score(y_test, y_pred))"
   ]
  },
  {
   "cell_type": "code",
   "execution_count": 146,
   "id": "91c77833",
   "metadata": {},
   "outputs": [
    {
     "data": {
      "text/plain": [
       "RandomForestRegressor()"
      ]
     },
     "execution_count": 146,
     "metadata": {},
     "output_type": "execute_result"
    }
   ],
   "source": [
    "rf = RandomForestRegressor(n_estimators=100)\n",
    "rf.fit(X_train, y_train)\n"
   ]
  },
  {
   "cell_type": "code",
   "execution_count": 147,
   "id": "82edeea8",
   "metadata": {},
   "outputs": [
    {
     "data": {
      "text/html": [
       "<div>\n",
       "<style scoped>\n",
       "    .dataframe tbody tr th:only-of-type {\n",
       "        vertical-align: middle;\n",
       "    }\n",
       "\n",
       "    .dataframe tbody tr th {\n",
       "        vertical-align: top;\n",
       "    }\n",
       "\n",
       "    .dataframe thead th {\n",
       "        text-align: right;\n",
       "    }\n",
       "</style>\n",
       "<table border=\"1\" class=\"dataframe\">\n",
       "  <thead>\n",
       "    <tr style=\"text-align: right;\">\n",
       "      <th></th>\n",
       "      <th>promotion_last_5_years</th>\n",
       "      <th>satisfaction_level</th>\n",
       "      <th>last_evaluation</th>\n",
       "      <th>number_of_projects</th>\n",
       "      <th>average_monthly_hours</th>\n",
       "      <th>time_spent_with_the_company</th>\n",
       "      <th>work_accidents</th>\n",
       "      <th>division_IT</th>\n",
       "      <th>division_RandD</th>\n",
       "      <th>division_accounting</th>\n",
       "      <th>division_hr</th>\n",
       "      <th>division_management</th>\n",
       "      <th>division_marketing</th>\n",
       "      <th>division_product_mng</th>\n",
       "      <th>division_sales</th>\n",
       "      <th>division_support</th>\n",
       "      <th>division_technical</th>\n",
       "      <th>salary_high</th>\n",
       "      <th>salary_low</th>\n",
       "      <th>salary_medium</th>\n",
       "    </tr>\n",
       "  </thead>\n",
       "  <tbody>\n",
       "    <tr>\n",
       "      <th>0</th>\n",
       "      <td>0</td>\n",
       "      <td>0.38</td>\n",
       "      <td>0.53</td>\n",
       "      <td>2</td>\n",
       "      <td>157</td>\n",
       "      <td>3</td>\n",
       "      <td>0</td>\n",
       "      <td>0</td>\n",
       "      <td>0</td>\n",
       "      <td>0</td>\n",
       "      <td>0</td>\n",
       "      <td>0</td>\n",
       "      <td>0</td>\n",
       "      <td>0</td>\n",
       "      <td>1</td>\n",
       "      <td>0</td>\n",
       "      <td>0</td>\n",
       "      <td>0</td>\n",
       "      <td>1</td>\n",
       "      <td>0</td>\n",
       "    </tr>\n",
       "    <tr>\n",
       "      <th>1</th>\n",
       "      <td>0</td>\n",
       "      <td>0.80</td>\n",
       "      <td>0.86</td>\n",
       "      <td>5</td>\n",
       "      <td>262</td>\n",
       "      <td>6</td>\n",
       "      <td>0</td>\n",
       "      <td>0</td>\n",
       "      <td>0</td>\n",
       "      <td>0</td>\n",
       "      <td>0</td>\n",
       "      <td>0</td>\n",
       "      <td>0</td>\n",
       "      <td>0</td>\n",
       "      <td>1</td>\n",
       "      <td>0</td>\n",
       "      <td>0</td>\n",
       "      <td>0</td>\n",
       "      <td>0</td>\n",
       "      <td>1</td>\n",
       "    </tr>\n",
       "    <tr>\n",
       "      <th>2</th>\n",
       "      <td>0</td>\n",
       "      <td>0.11</td>\n",
       "      <td>0.88</td>\n",
       "      <td>7</td>\n",
       "      <td>272</td>\n",
       "      <td>4</td>\n",
       "      <td>0</td>\n",
       "      <td>0</td>\n",
       "      <td>0</td>\n",
       "      <td>0</td>\n",
       "      <td>0</td>\n",
       "      <td>0</td>\n",
       "      <td>0</td>\n",
       "      <td>0</td>\n",
       "      <td>1</td>\n",
       "      <td>0</td>\n",
       "      <td>0</td>\n",
       "      <td>0</td>\n",
       "      <td>0</td>\n",
       "      <td>1</td>\n",
       "    </tr>\n",
       "    <tr>\n",
       "      <th>3</th>\n",
       "      <td>0</td>\n",
       "      <td>0.72</td>\n",
       "      <td>0.87</td>\n",
       "      <td>5</td>\n",
       "      <td>223</td>\n",
       "      <td>5</td>\n",
       "      <td>0</td>\n",
       "      <td>0</td>\n",
       "      <td>0</td>\n",
       "      <td>0</td>\n",
       "      <td>0</td>\n",
       "      <td>0</td>\n",
       "      <td>0</td>\n",
       "      <td>0</td>\n",
       "      <td>1</td>\n",
       "      <td>0</td>\n",
       "      <td>0</td>\n",
       "      <td>0</td>\n",
       "      <td>1</td>\n",
       "      <td>0</td>\n",
       "    </tr>\n",
       "    <tr>\n",
       "      <th>4</th>\n",
       "      <td>0</td>\n",
       "      <td>0.37</td>\n",
       "      <td>0.52</td>\n",
       "      <td>2</td>\n",
       "      <td>159</td>\n",
       "      <td>3</td>\n",
       "      <td>0</td>\n",
       "      <td>0</td>\n",
       "      <td>0</td>\n",
       "      <td>0</td>\n",
       "      <td>0</td>\n",
       "      <td>0</td>\n",
       "      <td>0</td>\n",
       "      <td>0</td>\n",
       "      <td>1</td>\n",
       "      <td>0</td>\n",
       "      <td>0</td>\n",
       "      <td>0</td>\n",
       "      <td>1</td>\n",
       "      <td>0</td>\n",
       "    </tr>\n",
       "  </tbody>\n",
       "</table>\n",
       "</div>"
      ],
      "text/plain": [
       "   promotion_last_5_years  satisfaction_level  last_evaluation  \\\n",
       "0                       0                0.38             0.53   \n",
       "1                       0                0.80             0.86   \n",
       "2                       0                0.11             0.88   \n",
       "3                       0                0.72             0.87   \n",
       "4                       0                0.37             0.52   \n",
       "\n",
       "   number_of_projects  average_monthly_hours  time_spent_with_the_company  \\\n",
       "0                   2                    157                            3   \n",
       "1                   5                    262                            6   \n",
       "2                   7                    272                            4   \n",
       "3                   5                    223                            5   \n",
       "4                   2                    159                            3   \n",
       "\n",
       "   work_accidents  division_IT  division_RandD  division_accounting  \\\n",
       "0               0            0               0                    0   \n",
       "1               0            0               0                    0   \n",
       "2               0            0               0                    0   \n",
       "3               0            0               0                    0   \n",
       "4               0            0               0                    0   \n",
       "\n",
       "   division_hr  division_management  division_marketing  division_product_mng  \\\n",
       "0            0                    0                   0                     0   \n",
       "1            0                    0                   0                     0   \n",
       "2            0                    0                   0                     0   \n",
       "3            0                    0                   0                     0   \n",
       "4            0                    0                   0                     0   \n",
       "\n",
       "   division_sales  division_support  division_technical  salary_high  \\\n",
       "0               1                 0                   0            0   \n",
       "1               1                 0                   0            0   \n",
       "2               1                 0                   0            0   \n",
       "3               1                 0                   0            0   \n",
       "4               1                 0                   0            0   \n",
       "\n",
       "   salary_low  salary_medium  \n",
       "0           1              0  \n",
       "1           0              1  \n",
       "2           0              1  \n",
       "3           1              0  \n",
       "4           1              0  "
      ]
     },
     "execution_count": 147,
     "metadata": {},
     "output_type": "execute_result"
    }
   ],
   "source": [
    "X.head()"
   ]
  },
  {
   "cell_type": "code",
   "execution_count": 148,
   "id": "49bfcf0d",
   "metadata": {},
   "outputs": [
    {
     "data": {
      "text/plain": [
       "array([0.00014003, 0.49002813, 0.12987484, 0.10441979, 0.10337904,\n",
       "       0.15019572, 0.00124083, 0.00124999, 0.0007342 , 0.00096929,\n",
       "       0.00068206, 0.00057072, 0.00051061, 0.00048012, 0.00221975,\n",
       "       0.0022475 , 0.00398937, 0.00128826, 0.00329989, 0.00247985])"
      ]
     },
     "execution_count": 148,
     "metadata": {},
     "output_type": "execute_result"
    }
   ],
   "source": [
    "rf.feature_importances_"
   ]
  },
  {
   "cell_type": "code",
   "execution_count": 149,
   "id": "a6167cef",
   "metadata": {},
   "outputs": [
    {
     "data": {
      "text/plain": [
       "3000"
      ]
     },
     "execution_count": 149,
     "metadata": {},
     "output_type": "execute_result"
    }
   ],
   "source": [
    "len(X_test)"
   ]
  },
  {
   "cell_type": "code",
   "execution_count": 150,
   "id": "9cdfcf02",
   "metadata": {},
   "outputs": [
    {
     "data": {
      "text/plain": [
       "3000"
      ]
     },
     "execution_count": 150,
     "metadata": {},
     "output_type": "execute_result"
    }
   ],
   "source": [
    "len(y_test)"
   ]
  }
 ],
 "metadata": {
  "kernelspec": {
   "display_name": "Python 3",
   "language": "python",
   "name": "python3"
  },
  "language_info": {
   "codemirror_mode": {
    "name": "ipython",
    "version": 3
   },
   "file_extension": ".py",
   "mimetype": "text/x-python",
   "name": "python",
   "nbconvert_exporter": "python",
   "pygments_lexer": "ipython3",
   "version": "3.8.8"
  }
 },
 "nbformat": 4,
 "nbformat_minor": 5
}
